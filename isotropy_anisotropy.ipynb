{
  "nbformat": 4,
  "nbformat_minor": 0,
  "metadata": {
    "colab": {
      "name": "isotropy-anisotropy.ipynb",
      "provenance": [],
      "collapsed_sections": [
        "GbSa24AdznUo",
        "BXmCapH91XrY",
        "BRGmuhGxCdKn",
        "R9lSCsVA1ckA"
      ],
      "toc_visible": true,
      "authorship_tag": "ABX9TyMoZovHxKmI4eTNGCrM3OlQ",
      "include_colab_link": true
    },
    "kernelspec": {
      "name": "python3",
      "display_name": "Python 3"
    }
  },
  "cells": [
    {
      "cell_type": "markdown",
      "metadata": {
        "id": "view-in-github",
        "colab_type": "text"
      },
      "source": [
        "<a href=\"https://colab.research.google.com/github/yohanesnuwara/2016-ml-contest/blob/master/isotropy_anisotropy.ipynb\" target=\"_parent\"><img src=\"https://colab.research.google.com/assets/colab-badge.svg\" alt=\"Open In Colab\"/></a>"
      ]
    },
    {
      "cell_type": "code",
      "metadata": {
        "id": "YwnI4S29FQ8e",
        "colab_type": "code",
        "colab": {}
      },
      "source": [
        "import numpy as np\n",
        "import matplotlib.pyplot as plt"
      ],
      "execution_count": null,
      "outputs": []
    },
    {
      "cell_type": "markdown",
      "metadata": {
        "id": "GbSa24AdznUo",
        "colab_type": "text"
      },
      "source": [
        "# Isotropic"
      ]
    },
    {
      "cell_type": "code",
      "metadata": {
        "id": "3QkuUOS7-Udh",
        "colab_type": "code",
        "colab": {
          "base_uri": "https://localhost:8080/",
          "height": 301
        },
        "outputId": "4422bc54-b972-47db-991e-4cdc7ccff069"
      },
      "source": [
        "Vp = 2000 # m/s\n",
        "Vs = 1000\n",
        "rho = 2000 # kg/m3\n",
        "\n",
        "C33 = (rho * (Vp)**2) * (1E-09) # GPa\n",
        "C44 = (rho * (Vs)**2) * (1E-09) # GPa\n",
        "\n",
        "C11 = C33\n",
        "C12 = C33 - 2 * C44\n",
        "C13 = C33 - 2 * C44\n",
        "C22 = C33\n",
        "C23 = C33 - 2 * C44\n",
        "C55 = C66 = C44\n",
        "C_matrix = np.array([[C11,  C12,  C13,    0,    0,    0],\n",
        "                     [0,    C22,  C23,    0,    0,    0],\n",
        "                     [0,    0,    C33,    0,    0,    0],\n",
        "                     [0,    0,      0,  C44,    0,    0],\n",
        "                     [0,    0,      0,    0,  C55,    0],\n",
        "                     [0,    0,      0,    0,    0,  C66]])\n",
        "C_inv = np.linalg.inv(C_matrix)\n",
        "print('C33:', C33, 'GPa, and C44:', C44, 'GPa \\n')\n",
        "print('Isotropic elastic stiffness tensor:')\n",
        "print(C_matrix, '\\n')\n",
        "print('Compliance tensor (in GPa):')\n",
        "print(C_inv)"
      ],
      "execution_count": null,
      "outputs": [
        {
          "output_type": "stream",
          "text": [
            "C33: 8.0 GPa, and C44: 2.0 GPa \n",
            "\n",
            "Isotropic elastic stiffness tensor:\n",
            "[[8. 4. 4. 0. 0. 0.]\n",
            " [0. 8. 4. 0. 0. 0.]\n",
            " [0. 0. 8. 0. 0. 0.]\n",
            " [0. 0. 0. 2. 0. 0.]\n",
            " [0. 0. 0. 0. 2. 0.]\n",
            " [0. 0. 0. 0. 0. 2.]] \n",
            "\n",
            "Compliance tensor (in GPa):\n",
            "[[ 0.125   -0.0625  -0.03125  0.       0.       0.     ]\n",
            " [ 0.       0.125   -0.0625   0.       0.       0.     ]\n",
            " [ 0.       0.       0.125    0.       0.       0.     ]\n",
            " [ 0.       0.       0.       0.5      0.       0.     ]\n",
            " [ 0.       0.       0.       0.       0.5      0.     ]\n",
            " [ 0.       0.       0.       0.       0.       0.5    ]]\n"
          ],
          "name": "stdout"
        }
      ]
    },
    {
      "cell_type": "code",
      "metadata": {
        "id": "rogAVMdqKehR",
        "colab_type": "code",
        "colab": {
          "base_uri": "https://localhost:8080/",
          "height": 117
        },
        "outputId": "868d6e07-d095-4739-ee14-120f4198fbc5"
      },
      "source": [
        "sigma_xx = 5000\n",
        "sigma_yy = 15000\n",
        "sigma_zz = 10000\n",
        "stress_matrix = np.array([[sigma_xx],\n",
        "                          [sigma_yy],\n",
        "                          [sigma_zz],\n",
        "                          [0],\n",
        "                          [0],\n",
        "                          [0]])\n",
        "strain_matrix = np.dot((C_inv / 145000), stress_matrix)\n",
        "strain_matrix"
      ],
      "execution_count": null,
      "outputs": [
        {
          "output_type": "execute_result",
          "data": {
            "text/plain": [
              "array([[-0.00431034],\n",
              "       [ 0.00862069],\n",
              "       [ 0.00862069],\n",
              "       [ 0.        ],\n",
              "       [ 0.        ],\n",
              "       [ 0.        ]])"
            ]
          },
          "metadata": {
            "tags": []
          },
          "execution_count": 30
        }
      ]
    },
    {
      "cell_type": "markdown",
      "metadata": {
        "id": "64W8eb1-zpop",
        "colab_type": "text"
      },
      "source": [
        "# Anisotropy Type VTI (Vertical Transverse Isotropy)"
      ]
    },
    {
      "cell_type": "markdown",
      "metadata": {
        "id": "YbrUn9-8keFn",
        "colab_type": "text"
      },
      "source": [
        "## Backus Average (1962)"
      ]
    },
    {
      "cell_type": "markdown",
      "metadata": {
        "colab_type": "text",
        "id": "PXjRs2ff-XCy"
      },
      "source": [
        "### Direct rotation of a bedding plane"
      ]
    },
    {
      "cell_type": "markdown",
      "metadata": {
        "id": "9PRkmKGbBS91",
        "colab_type": "text"
      },
      "source": [
        "6x6 stiffness matrix from Backus averaging of a dolomite-shale interbedding (0.75 m thickness dolomite and 0.5 m thickness shale)"
      ]
    },
    {
      "cell_type": "code",
      "metadata": {
        "id": "4vOn04RLB1So",
        "colab_type": "code",
        "colab": {
          "base_uri": "https://localhost:8080/",
          "height": 158
        },
        "outputId": "305c1d41-055d-4db2-ef64-43bf5bc42c61"
      },
      "source": [
        "A = 45.1\n",
        "C = 34.03 \n",
        "D = 8.28\n",
        "M = 12.55 \n",
        "F = 16.7\n",
        "B = A - 2 * M\n",
        "\n",
        "# stiffness tensor\n",
        "S = np.array([[A, B, F, 0, 0, 0],\n",
        "              [B, A, F, 0, 0, 0],\n",
        "              [F, F, C, 0, 0, 0],\n",
        "              [0, 0, 0, D, 0, 0],\n",
        "              [0, 0, 0, 0, D, 0],\n",
        "              [0, 0, 0, 0, 0, M]])\n",
        "print('Stiffness tensor:')\n",
        "print(S, '\\n')"
      ],
      "execution_count": null,
      "outputs": [
        {
          "output_type": "stream",
          "text": [
            "Stiffness tensor:\n",
            "[[45.1  20.   16.7   0.    0.    0.  ]\n",
            " [20.   45.1  16.7   0.    0.    0.  ]\n",
            " [16.7  16.7  34.03  0.    0.    0.  ]\n",
            " [ 0.    0.    0.    8.28  0.    0.  ]\n",
            " [ 0.    0.    0.    0.    8.28  0.  ]\n",
            " [ 0.    0.    0.    0.    0.   12.55]] \n",
            "\n"
          ],
          "name": "stdout"
        }
      ]
    },
    {
      "cell_type": "markdown",
      "metadata": {
        "id": "vMGVmpUKB3G2",
        "colab_type": "text"
      },
      "source": [
        "Assuming the interbedding dolomite-shale has N160°E strike and 45° dip "
      ]
    },
    {
      "cell_type": "code",
      "metadata": {
        "id": "Zg01qga3CMnY",
        "colab_type": "code",
        "colab": {}
      },
      "source": [
        "\" Strike and dip data \"\n",
        "\n",
        "strike = 160 # azimuth from north\n",
        "dip = 45"
      ],
      "execution_count": null,
      "outputs": []
    },
    {
      "cell_type": "markdown",
      "metadata": {
        "id": "pfyErYT0CSDX",
        "colab_type": "text"
      },
      "source": [
        "This is a TTI (tilted transverse isotropy) type of anisotropy. The above Backus is computed on a **tilted coordinate with z-axis normal to bedding plane**, in other words the stiffness matrix behaves as a **vertical transverse isotropy (VTI) in a tilted coordinate**. \n",
        "\n",
        "So, we can rotate the **tilted coordinate** to a **global coordinate**.\n",
        "\n",
        "![rotation matrix](https://user-images.githubusercontent.com/51282928/78970364-56ead300-7b33-11ea-926b-41b889275577.PNG)\n",
        "\n",
        "There are two steps of transformation:\n",
        "\n",
        "* Step 1: Rotate the bedding plane by the strike angle `strike = theta` to the global y axis, along z axis\n",
        "* Step 2: Rotate the bedding plane by the strike angle `dip = psi` to the global z axis, along x axis"
      ]
    },
    {
      "cell_type": "markdown",
      "metadata": {
        "id": "riJHsEQBHIxI",
        "colab_type": "text"
      },
      "source": [
        "#### First rotation of strike"
      ]
    },
    {
      "cell_type": "code",
      "metadata": {
        "id": "raXiyBSTKNs5",
        "colab_type": "code",
        "colab": {
          "base_uri": "https://localhost:8080/",
          "height": 105
        },
        "outputId": "34cc2944-2ca2-4a4a-83f2-74b83763449a"
      },
      "source": [
        "\" direction cosines of rotation along Z axis (rotate strike) \"\n",
        "\n",
        "theta = strike # transformation angle\n",
        "\n",
        "a1 = np.cos(np.deg2rad(theta)); a2 = -np.sin(np.deg2rad(theta)); a3 = 0\n",
        "b1 = np.sin(np.deg2rad(theta)); b2 = np.cos(np.deg2rad(theta)); b3 = 0\n",
        "c1 = 0; c2 = 0; c3 = 1\n",
        "\n",
        "Z = np.array([[a1, a2, a3],\n",
        "              [b1, b2, b3],\n",
        "              [c1, c2, c3]])\n",
        "print('Direction cosine matrix after rotation of strike:')\n",
        "print(Z, '\\n')"
      ],
      "execution_count": null,
      "outputs": [
        {
          "output_type": "stream",
          "text": [
            "Direction cosine matrix after rotation of strike:\n",
            "[[-0.93969262 -0.34202014  0.        ]\n",
            " [ 0.34202014 -0.93969262  0.        ]\n",
            " [ 0.          0.          1.        ]] \n",
            "\n"
          ],
          "name": "stdout"
        }
      ]
    },
    {
      "cell_type": "markdown",
      "metadata": {
        "id": "LhJYZbbUKThe",
        "colab_type": "text"
      },
      "source": [
        "#### Second rotation of dip"
      ]
    },
    {
      "cell_type": "code",
      "metadata": {
        "id": "DIeOw4YUKWJU",
        "colab_type": "code",
        "colab": {
          "base_uri": "https://localhost:8080/",
          "height": 105
        },
        "outputId": "eada7621-de41-49c8-d6df-799cc2d66b23"
      },
      "source": [
        "\" direction cosines of rotation along X axis (rotate dip) \"\n",
        "\n",
        "psi = dip # transformation angle\n",
        "\n",
        "d1 = 1; d2 = 0; d3 = 0\n",
        "e1 = 0; e2 = np.cos(np.deg2rad(psi)); e3 = -np.sin(np.deg2rad(psi))\n",
        "f1 = 0; f2 = np.sin(np.deg2rad(psi)); f3 = np.cos(np.deg2rad(psi))\n",
        "\n",
        "X = np.array([[d1, d2, d3],\n",
        "              [e1, e2, e3],\n",
        "              [f1, f2, f3]])\n",
        "print('Direction cosine matrix after rotation of dip:')\n",
        "print(X, '\\n')"
      ],
      "execution_count": null,
      "outputs": [
        {
          "output_type": "stream",
          "text": [
            "Direction cosine matrix after rotation of dip:\n",
            "[[ 1.          0.          0.        ]\n",
            " [ 0.          0.70710678 -0.70710678]\n",
            " [ 0.          0.70710678  0.70710678]] \n",
            "\n"
          ],
          "name": "stdout"
        }
      ]
    },
    {
      "cell_type": "markdown",
      "metadata": {
        "id": "SomM-KULKnJL",
        "colab_type": "text"
      },
      "source": [
        "#### Combined rotation"
      ]
    },
    {
      "cell_type": "code",
      "metadata": {
        "id": "fva78iV9Ko7v",
        "colab_type": "code",
        "colab": {
          "base_uri": "https://localhost:8080/",
          "height": 105
        },
        "outputId": "60c9a8b7-7ab5-4621-8a1d-86bb5534751a"
      },
      "source": [
        "\" direction cosine of rotation combination of strike and dip \"\n",
        "\n",
        "# multiply direction cosine matrix of 1st and 2nd rotation\n",
        "L = np.dot(X, Z)\n",
        "print('Direction cosine matrix after rotation combination:')\n",
        "print(L, '\\n')"
      ],
      "execution_count": null,
      "outputs": [
        {
          "output_type": "stream",
          "text": [
            "Direction cosine matrix after rotation combination:\n",
            "[[-0.93969262 -0.34202014  0.        ]\n",
            " [ 0.24184476 -0.66446302 -0.70710678]\n",
            " [ 0.24184476 -0.66446302  0.70710678]] \n",
            "\n"
          ],
          "name": "stdout"
        }
      ]
    },
    {
      "cell_type": "markdown",
      "metadata": {
        "id": "gQ3Q8UEjLAwi",
        "colab_type": "text"
      },
      "source": [
        "#### Create 6x6 rotation/transformation tensor"
      ]
    },
    {
      "cell_type": "code",
      "metadata": {
        "id": "FbjUoxCWLFn6",
        "colab_type": "code",
        "colab": {
          "base_uri": "https://localhost:8080/",
          "height": 263
        },
        "outputId": "1dbfbed9-dede-4aa8-f363-7c76dda7f7d7"
      },
      "source": [
        "\" direction cosine elements \"\n",
        "\n",
        "l1 = L[0][0]; l2 = L[0][1]; l3 = L[0][2]\n",
        "m1 = L[1][0]; m2 = L[1][1]; m3 = L[1][2]\n",
        "n1 = L[2][0]; n2 = L[2][1]; n3 = L[2][2]\n",
        "\n",
        "\" rotation tensor \"\n",
        "\n",
        "Y = np.array([[l1**2,   m1**2,   n1**2,   2*m1*n1,        2*n1*l1,        2*l1*m1],\n",
        "              [l2**2,   m2**2,   n2**2,   2*m2*n2,        2*n2*l2,        2*l2*m2],\n",
        "              [l3**2,   m3**2,   n3**2,   2*m3*n3,        2*n3*l3,        2*l3*m3],\n",
        "              [l2*l3,   m2*m3,   n2*n3,   m2*n3 + m3*n2,  n2*l3 + n3*l2,  m2*l3 + m3*l2],\n",
        "              [l3*l1,   m3*m1,   n3*n1,   m3*n1 + m1*n3,  n3*l1 + n1*l3,  m3*l1 + m1*l3],\n",
        "              [l1*l2,   m1*m2,   n1*n2,   m1*n2 + m2*n1,  n1*l2 + n2*l1,  m1*l2 + m2*l1]])\n",
        "print('Rotation tensor:')\n",
        "print(Y, '\\n')"
      ],
      "execution_count": null,
      "outputs": [
        {
          "output_type": "stream",
          "text": [
            "Rotation tensor:\n",
            "[[ 8.83022222e-01  5.84888892e-02  5.84888892e-02  1.16977778e-01\n",
            "  -4.54519478e-01 -4.54519478e-01]\n",
            " [ 1.16977778e-01  4.41511111e-01  4.41511111e-01  8.83022222e-01\n",
            "   4.54519478e-01  4.54519478e-01]\n",
            " [ 0.00000000e+00  5.00000000e-01  5.00000000e-01 -1.00000000e+00\n",
            "   0.00000000e+00 -0.00000000e+00]\n",
            " [-0.00000000e+00  4.69846310e-01 -4.69846310e-01 -1.66533454e-16\n",
            "  -2.41844763e-01  2.41844763e-01]\n",
            " [-0.00000000e+00 -1.71010072e-01  1.71010072e-01  5.55111512e-17\n",
            "  -6.64463024e-01  6.64463024e-01]\n",
            " [ 3.21393805e-01 -1.60696902e-01 -1.60696902e-01 -3.21393805e-01\n",
            "   5.41675220e-01  5.41675220e-01]] \n",
            "\n"
          ],
          "name": "stdout"
        }
      ]
    },
    {
      "cell_type": "markdown",
      "metadata": {
        "id": "Vf07Q9MjLMA-",
        "colab_type": "text"
      },
      "source": [
        "Transformation of the original stiffness tensor to the new coordinate"
      ]
    },
    {
      "cell_type": "code",
      "metadata": {
        "id": "-0Z9g1bxLv42",
        "colab_type": "code",
        "colab": {
          "base_uri": "https://localhost:8080/",
          "height": 158
        },
        "outputId": "94700609-b7d2-4044-c163-2499771db182"
      },
      "source": [
        "\" transformation of stiffness \"\n",
        "\n",
        "Y_inv = np.linalg.inv(Y)\n",
        "S_dot = np.dot(Y, S)\n",
        "S_trans = np.dot(S_dot, Y_inv)\n",
        "print('Transformed stiffness tensor:')\n",
        "print(S_trans, '\\n')"
      ],
      "execution_count": null,
      "outputs": [
        {
          "output_type": "stream",
          "text": [
            "Transformed stiffness tensor:\n",
            "[[41.54985679 20.39961075 19.01004711  2.87729203 -2.50767467  9.00794099]\n",
            " [20.39961075 31.7234217  23.33245289  5.42489228 -0.5140733  -0.76258293]\n",
            " [19.01004711 23.33245289 32.2725      5.20119866 -1.89308149 -3.62692909]\n",
            " [ 1.43864601  2.71244614  2.60059933 21.40862666 -4.00135287 -0.11561983]\n",
            " [-1.25383733 -0.25703665 -0.94654075 -4.00135287 11.87137334  1.78255012]\n",
            " [ 4.5039705  -0.38129146 -1.81346454 -0.11561983  1.78255012 14.51422151]] \n",
            "\n"
          ],
          "name": "stdout"
        }
      ]
    },
    {
      "cell_type": "markdown",
      "metadata": {
        "id": "fU13wqyoLzY0",
        "colab_type": "text"
      },
      "source": [
        "#### Compliance tensor"
      ]
    },
    {
      "cell_type": "code",
      "metadata": {
        "id": "Uedc9mMRL0nz",
        "colab_type": "code",
        "colab": {
          "base_uri": "https://localhost:8080/",
          "height": 298
        },
        "outputId": "8f8e3bd2-655b-4457-edc5-d3a2a78da03c"
      },
      "source": [
        "\" compliance tensor, inverse of stiffness tensor \"\n",
        "\n",
        "# original compliance tensor\n",
        "compliance_original = np.linalg.inv(S)\n",
        "print('Original compliance tensor:')\n",
        "print(compliance_original, '\\n')\n",
        "\n",
        "# transformed compliance tensor\n",
        "compliance_trans = np.linalg.inv(S_trans)\n",
        "print('Transformed compliance tensor:')\n",
        "print(compliance_trans, '\\n')"
      ],
      "execution_count": null,
      "outputs": [
        {
          "output_type": "stream",
          "text": [
            "Original compliance tensor:\n",
            "[[ 0.03018533 -0.00965531 -0.01007497  0.          0.          0.        ]\n",
            " [-0.00965531  0.03018533 -0.01007497  0.          0.          0.        ]\n",
            " [-0.01007497 -0.01007497  0.03927429  0.          0.          0.        ]\n",
            " [ 0.          0.          0.          0.12077295  0.          0.        ]\n",
            " [ 0.          0.          0.          0.          0.12077295  0.        ]\n",
            " [ 0.          0.          0.          0.          0.          0.07968127]] \n",
            "\n",
            "Transformed compliance tensor:\n",
            "[[ 0.04319905 -0.01790397 -0.01433298  0.0043656   0.01246523 -0.03282901]\n",
            " [-0.01790397  0.07577782 -0.04359122 -0.00824167 -0.01105446  0.00549218]\n",
            " [-0.01433298 -0.04359122  0.07271389 -0.00427042  0.0015543   0.02455057]\n",
            " [ 0.0021828  -0.00412083 -0.00213521  0.05128796  0.01781239 -0.00388384]\n",
            " [ 0.00623261 -0.00552723  0.00077715  0.01781239  0.09374393 -0.01533552]\n",
            " [-0.01641451  0.00274609  0.01227529 -0.00388384 -0.01533552  0.08414946]] \n",
            "\n"
          ],
          "name": "stdout"
        }
      ]
    },
    {
      "cell_type": "markdown",
      "metadata": {
        "id": "XlwBnaCIMKD4",
        "colab_type": "text"
      },
      "source": [
        "Young's Moduli from compliance tensor"
      ]
    },
    {
      "cell_type": "code",
      "metadata": {
        "id": "nTXUSqntMPlN",
        "colab_type": "code",
        "colab": {
          "base_uri": "https://localhost:8080/",
          "height": 175
        },
        "outputId": "bd78190e-9d2a-44aa-a392-5e4960349a01"
      },
      "source": [
        "\" Before rotation (VTI)\"\n",
        "\n",
        "# Young's modulus in all directions\n",
        "Ex_0 = 1 / compliance_original[0][0]\n",
        "Ey_0 = 1 / compliance_original[1][1]\n",
        "Ez_0 = 1 / compliance_original[2][2]\n",
        "print('Before rotation:')\n",
        "print('Young modulus in x direction before rotation', Ex_0, 'GPa')\n",
        "print('Young modulus in y direction before rotation', Ey_0, 'GPa')\n",
        "print('Young modulus in z direction before rotation', Ez_0, 'GPa \\n')\n",
        "\n",
        "\" After rotation (TTI)\"\n",
        "\n",
        "# Young's modulus in all directions\n",
        "Ex_1 = 1 / compliance_trans[0][0]\n",
        "Ey_1 = 1 / compliance_trans[1][1]\n",
        "Ez_1 = 1 / compliance_trans[2][2]\n",
        "print('After rotation:')\n",
        "print('Young modulus in x direction after rotation', Ex_1, 'GPa')\n",
        "print('Young modulus in y direction after rotation', Ey_1, 'GPa')\n",
        "print('Young modulus in z direction after rotation', Ez_1, 'GPa')"
      ],
      "execution_count": null,
      "outputs": [
        {
          "output_type": "stream",
          "text": [
            "Before rotation:\n",
            "Young modulus in x direction before rotation 33.12867908362616 GPa\n",
            "Young modulus in y direction before rotation 33.12867908362616 GPa\n",
            "Young modulus in z direction before rotation 25.461950844854073 GPa \n",
            "\n",
            "After rotation:\n",
            "Young modulus in x direction after rotation 23.148657858516483 GPa\n",
            "Young modulus in y direction after rotation 13.196473643023813 GPa\n",
            "Young modulus in z direction after rotation 13.752530323619581 GPa\n"
          ],
          "name": "stdout"
        }
      ]
    },
    {
      "cell_type": "markdown",
      "metadata": {
        "id": "B2_FTK0nYMoo",
        "colab_type": "text"
      },
      "source": [
        "Shear Moduli from compliance tensor"
      ]
    },
    {
      "cell_type": "code",
      "metadata": {
        "id": "auvRBju3YPsR",
        "colab_type": "code",
        "colab": {
          "base_uri": "https://localhost:8080/",
          "height": 175
        },
        "outputId": "654277bd-2da2-494f-ae6f-89b3e038a81b"
      },
      "source": [
        "\" Before rotation (VTI)\"\n",
        "\n",
        "# Shear modulus in all directions\n",
        "Gyz_0 = 1 / compliance_original[3][3]\n",
        "Gxz_0 = 1 / compliance_original[4][4]\n",
        "Gxy_0 = 1 / compliance_original[5][5]\n",
        "print('Before rotation:')\n",
        "print('Shear modulus in yz plane before rotation', Gyz_0, 'GPa')\n",
        "print('Shear modulus in xz plane before rotation', Gxz_0, 'GPa')\n",
        "print('Shear modulus in xy plane before rotation', Gxy_0, 'GPa \\n')\n",
        "\n",
        "\" After rotation (TTI)\"\n",
        "\n",
        "# Shear modulus in all directions\n",
        "Gyz_1 = 1 / compliance_trans[3][3]\n",
        "Gxz_1 = 1 / compliance_trans[4][4]\n",
        "Gxy_1 = 1 / compliance_trans[5][5]\n",
        "print('After rotation:')\n",
        "print('Shear modulus in yz plane after rotation', Gyz_1, 'GPa')\n",
        "print('Shear modulus in xz plane after rotation', Gxz_1, 'GPa')\n",
        "print('Shear modulus in xy plane after rotation', Gxy_1, 'GPa')"
      ],
      "execution_count": null,
      "outputs": [
        {
          "output_type": "stream",
          "text": [
            "Before rotation:\n",
            "Shear modulus in yz plane before rotation 8.28 GPa\n",
            "Shear modulus in xz plane before rotation 8.28 GPa\n",
            "Shear modulus in xy plane before rotation 12.55 GPa \n",
            "\n",
            "After rotation:\n",
            "Shear modulus in yz plane after rotation 19.497753513298168 GPa\n",
            "Shear modulus in xz plane after rotation 10.667357391316818 GPa\n",
            "Shear modulus in xy plane after rotation 11.883617447563896 GPa\n"
          ],
          "name": "stdout"
        }
      ]
    },
    {
      "cell_type": "markdown",
      "metadata": {
        "id": "5GdgY5ntbMKU",
        "colab_type": "text"
      },
      "source": [
        "Coefficient of strain in $i$ direction caused by shear stress in $jk$ plane ($\\eta_{i,jk}$)"
      ]
    },
    {
      "cell_type": "code",
      "metadata": {
        "id": "7DfTD9osbnnJ",
        "colab_type": "code",
        "colab": {
          "base_uri": "https://localhost:8080/",
          "height": 386
        },
        "outputId": "ea86ec20-8dd5-407f-cb63-c8814b2afd76"
      },
      "source": [
        "\" Before rotation (VTI)\"\n",
        "\n",
        "# Eta modulus in all directions\n",
        "eta_x_yz_0 = compliance_original[0][3] * Gyz_0\n",
        "eta_x_xz_0 = compliance_original[0][4] * Gxz_0\n",
        "eta_x_xy_0 = compliance_original[0][5] * Gxy_0\n",
        "eta_y_yz_0 = compliance_original[1][3] * Gyz_0\n",
        "eta_y_xz_0 = compliance_original[1][4] * Gxz_0\n",
        "eta_y_xy_0 = compliance_original[1][5] * Gxy_0\n",
        "eta_z_yz_0 = compliance_original[2][3] * Gyz_0\n",
        "eta_z_xz_0 = compliance_original[2][4] * Gxz_0\n",
        "eta_z_xy_0 = compliance_original[2][5] * Gxy_0\n",
        "\n",
        "print('Before rotation:')\n",
        "print('Coefficient of strain in x direction caused by shear stress in yz plane:', eta_x_yz_0, 'GPa')\n",
        "print('Coefficient of strain in x direction caused by shear stress in xz plane:', eta_x_xz_0, 'GPa')\n",
        "print('Coefficient of strain in x direction caused by shear stress in xy plane:', eta_x_xy_0, 'GPa')\n",
        "print('Coefficient of strain in y direction caused by shear stress in yz plane:', eta_y_yz_0, 'GPa')\n",
        "print('Coefficient of strain in y direction caused by shear stress in xz plane:', eta_y_xz_0, 'GPa')\n",
        "print('Coefficient of strain in y direction caused by shear stress in xy plane:', eta_y_xy_0, 'GPa')\n",
        "print('Coefficient of strain in z direction caused by shear stress in yz plane:', eta_z_yz_0, 'GPa')\n",
        "print('Coefficient of strain in z direction caused by shear stress in xz plane:', eta_z_xz_0, 'GPa')\n",
        "print('Coefficient of strain in z direction caused by shear stress in xy plane:', eta_z_xy_0, 'GPa \\n')\n",
        "\n",
        "\" After rotation (TTI)\"\n",
        "\n",
        "# Eta modulus in all directions\n",
        "eta_x_yz_1 = compliance_trans[0][3] * Gyz_0\n",
        "eta_x_xz_1 = compliance_trans[0][4] * Gxz_1\n",
        "eta_x_xy_1 = compliance_trans[0][5] * Gxy_1\n",
        "eta_y_yz_1 = compliance_trans[1][3] * Gyz_1\n",
        "eta_y_xz_1 = compliance_trans[1][4] * Gxz_1\n",
        "eta_y_xy_1 = compliance_trans[1][5] * Gxy_1\n",
        "eta_z_yz_1 = compliance_trans[2][3] * Gyz_1\n",
        "eta_z_xz_1 = compliance_trans[2][4] * Gxz_1\n",
        "eta_z_xy_1 = compliance_trans[2][5] * Gxy_1\n",
        "\n",
        "print('After rotation:')\n",
        "print('Coefficient of strain in x direction caused by shear stress in yz plane:', eta_x_yz_1, 'GPa')\n",
        "print('Coefficient of strain in x direction caused by shear stress in xz plane:', eta_x_xz_1, 'GPa')\n",
        "print('Coefficient of strain in x direction caused by shear stress in xy plane:', eta_x_xy_1, 'GPa')\n",
        "print('Coefficient of strain in y direction caused by shear stress in yz plane:', eta_y_yz_1, 'GPa')\n",
        "print('Coefficient of strain in y direction caused by shear stress in xz plane:', eta_y_xz_1, 'GPa')\n",
        "print('Coefficient of strain in y direction caused by shear stress in xy plane:', eta_y_xy_1, 'GPa')\n",
        "print('Coefficient of strain in z direction caused by shear stress in yz plane:', eta_z_yz_1, 'GPa')\n",
        "print('Coefficient of strain in z direction caused by shear stress in xz plane:', eta_z_xz_1, 'GPa')\n",
        "print('Coefficient of strain in z direction caused by shear stress in xy plane:', eta_z_xy_1, 'GPa')"
      ],
      "execution_count": null,
      "outputs": [
        {
          "output_type": "stream",
          "text": [
            "Before rotation:\n",
            "Coefficient of strain in x direction caused by shear stress in yz plane: 0.0 GPa\n",
            "Coefficient of strain in x direction caused by shear stress in xz plane: 0.0 GPa\n",
            "Coefficient of strain in x direction caused by shear stress in xy plane: 0.0 GPa\n",
            "Coefficient of strain in y direction caused by shear stress in yz plane: 0.0 GPa\n",
            "Coefficient of strain in y direction caused by shear stress in xz plane: 0.0 GPa\n",
            "Coefficient of strain in y direction caused by shear stress in xy plane: 0.0 GPa\n",
            "Coefficient of strain in z direction caused by shear stress in yz plane: 0.0 GPa\n",
            "Coefficient of strain in z direction caused by shear stress in xz plane: 0.0 GPa\n",
            "Coefficient of strain in z direction caused by shear stress in xy plane: 0.0 GPa \n",
            "\n",
            "After rotation:\n",
            "Coefficient of strain in x direction caused by shear stress in yz plane: 0.03614719976435066 GPa\n",
            "Coefficient of strain in x direction caused by shear stress in xz plane: 0.1329710599835882 GPa\n",
            "Coefficient of strain in x direction caused by shear stress in xy plane: -0.39012745091999695 GPa\n",
            "Coefficient of strain in y direction caused by shear stress in yz plane: -0.16069399763316727 GPa\n",
            "Coefficient of strain in y direction caused by shear stress in xz plane: -0.11792185375917341 GPa\n",
            "Coefficient of strain in y direction caused by shear stress in xy plane: 0.06526696584602802 GPa\n",
            "Coefficient of strain in z direction caused by shear stress in yz plane: -0.08326350150922895 GPa\n",
            "Coefficient of strain in z direction caused by shear stress in xz plane: 0.016580316193492282 GPa\n",
            "Coefficient of strain in z direction caused by shear stress in xy plane: 0.2917496397870655 GPa\n"
          ],
          "name": "stdout"
        }
      ]
    },
    {
      "cell_type": "markdown",
      "metadata": {
        "id": "YrGuWjLMkxDY",
        "colab_type": "text"
      },
      "source": [
        "Coefficient of displacement in $ij$ plane caused by normal stress in $k$ direction ($\\eta_{ij,k}$)"
      ]
    },
    {
      "cell_type": "code",
      "metadata": {
        "id": "5mEsFcU9k6UT",
        "colab_type": "code",
        "colab": {
          "base_uri": "https://localhost:8080/",
          "height": 404
        },
        "outputId": "05833e16-e7a1-456a-9244-4268c9badc51"
      },
      "source": [
        "\" Before rotation (VTI)\"\n",
        "\n",
        "# Eta modulus in all directions\n",
        "eta_yz_x_0 = compliance_original[3][0] * Ex_0\n",
        "eta_xz_x_0 = compliance_original[4][0] * Ex_0\n",
        "eta_xy_x_0 = compliance_original[5][0] * Ex_0\n",
        "eta_yz_y_0 = compliance_original[3][1] * Ey_0\n",
        "eta_xz_y_0 = compliance_original[4][1] * Ey_0\n",
        "eta_xy_y_0 = compliance_original[5][1] * Ey_0\n",
        "eta_yz_z_0 = compliance_original[3][2] * Ez_0\n",
        "eta_xz_z_0 = compliance_original[4][2] * Ez_0\n",
        "eta_xy_z_0 = compliance_original[5][2] * Ez_0\n",
        "\n",
        "print('Before rotation:')\n",
        "print('Coefficient of strain in yz plane caused by shear stress in x direction:', eta_yz_x_0, 'GPa')\n",
        "print('Coefficient of strain in xz plane caused by shear stress in x direction:', eta_xz_x_0, 'GPa')\n",
        "print('Coefficient of strain in xy plane caused by shear stress in x direction:', eta_xy_x_0, 'GPa')\n",
        "print('Coefficient of strain in yz plane caused by shear stress in y direction:', eta_yz_y_0, 'GPa')\n",
        "print('Coefficient of strain in xz plane caused by shear stress in y direction:', eta_xz_y_0, 'GPa')\n",
        "print('Coefficient of strain in xy plane caused by shear stress in y direction:', eta_xy_y_0, 'GPa')\n",
        "print('Coefficient of strain in yz plane caused by shear stress in z direction:', eta_yz_z_0, 'GPa')\n",
        "print('Coefficient of strain in xz plane caused by shear stress in z direction:', eta_xz_z_0, 'GPa')\n",
        "print('Coefficient of strain in xy plane caused by shear stress in z direction:', eta_xy_z_0, 'GPa \\n')\n",
        "\n",
        "\" After rotation (TTI)\"\n",
        "\n",
        "# Eta modulus in all directions\n",
        "eta_yz_x_1 = compliance_trans[3][0] * Ex_1\n",
        "eta_xz_x_1 = compliance_trans[4][0] * Ex_1\n",
        "eta_xy_x_1 = compliance_trans[5][0] * Ex_1\n",
        "eta_yz_y_1 = compliance_trans[3][1] * Ey_1\n",
        "eta_xz_y_1 = compliance_trans[4][1] * Ey_1\n",
        "eta_xy_y_1 = compliance_trans[5][1] * Ey_1\n",
        "eta_yz_z_1 = compliance_trans[3][2] * Ez_1\n",
        "eta_xz_z_1 = compliance_trans[4][2] * Ez_1\n",
        "eta_xy_z_1 = compliance_trans[5][2] * Ez_1\n",
        "\n",
        "print('After rotation:')\n",
        "print('Coefficient of strain in yz plane caused by shear stress in x direction:', eta_yz_x_1, 'GPa')\n",
        "print('Coefficient of strain in xz plane caused by shear stress in x direction:', eta_xz_x_1, 'GPa')\n",
        "print('Coefficient of strain in xy plane caused by shear stress in x direction:', eta_xy_x_1, 'GPa')\n",
        "print('Coefficient of strain in yz plane caused by shear stress in y direction:', eta_yz_y_1, 'GPa')\n",
        "print('Coefficient of strain in xz plane caused by shear stress in y direction:', eta_xz_y_1, 'GPa')\n",
        "print('Coefficient of strain in xy plane caused by shear stress in y direction:', eta_xy_y_1, 'GPa')\n",
        "print('Coefficient of strain in yz plane caused by shear stress in z direction:', eta_yz_z_1, 'GPa')\n",
        "print('Coefficient of strain in xz plane caused by shear stress in z direction:', eta_xz_z_1, 'GPa')\n",
        "print('Coefficient of strain in xy plane caused by shear stress in z direction:', eta_xy_z_1, 'GPa \\n')"
      ],
      "execution_count": null,
      "outputs": [
        {
          "output_type": "stream",
          "text": [
            "Before rotation:\n",
            "Coefficient of strain in yz plane caused by shear stress in x direction: 0.0 GPa\n",
            "Coefficient of strain in xz plane caused by shear stress in x direction: 0.0 GPa\n",
            "Coefficient of strain in xy plane caused by shear stress in x direction: 0.0 GPa\n",
            "Coefficient of strain in yz plane caused by shear stress in y direction: 0.0 GPa\n",
            "Coefficient of strain in xz plane caused by shear stress in y direction: 0.0 GPa\n",
            "Coefficient of strain in xy plane caused by shear stress in y direction: 0.0 GPa\n",
            "Coefficient of strain in yz plane caused by shear stress in z direction: 0.0 GPa\n",
            "Coefficient of strain in xz plane caused by shear stress in z direction: 0.0 GPa\n",
            "Coefficient of strain in xy plane caused by shear stress in z direction: 0.0 GPa \n",
            "\n",
            "After rotation:\n",
            "Coefficient of strain in yz plane caused by shear stress in x direction: 0.050528934775869686 GPa\n",
            "Coefficient of strain in xz plane caused by shear stress in x direction: 0.1442766685191366 GPa\n",
            "Coefficient of strain in xy plane caused by shear stress in x direction: -0.3799738136308613 GPa\n",
            "Coefficient of strain in yz plane caused by shear stress in y direction: -0.05438047267629847 GPa\n",
            "Coefficient of strain in xz plane caused by shear stress in y direction: -0.07293993151181674 GPa\n",
            "Coefficient of strain in xy plane caused by shear stress in y direction: 0.03623870418025815 GPa\n",
            "Coefficient of strain in yz plane caused by shear stress in z direction: -0.029364506751391194 GPa\n",
            "Coefficient of strain in xz plane caused by shear stress in z direction: 0.010687806401415426 GPa\n",
            "Coefficient of strain in xy plane caused by shear stress in z direction: 0.16881626263134272 GPa \n",
            "\n"
          ],
          "name": "stdout"
        }
      ]
    },
    {
      "cell_type": "markdown",
      "metadata": {
        "id": "9gWwelO-n161",
        "colab_type": "text"
      },
      "source": [
        "Coefficient of displacement in $ij$ plane caused by tangential stress in $kl$ direction ($\\mu_{ij,kl}$)"
      ]
    },
    {
      "cell_type": "code",
      "metadata": {
        "id": "KCQJ590hosHL",
        "colab_type": "code",
        "colab": {
          "base_uri": "https://localhost:8080/",
          "height": 281
        },
        "outputId": "cff3328c-0dec-4dc5-9274-cbfe6d40c7c6"
      },
      "source": [
        "\" Before rotation (VTI)\"\n",
        "\n",
        "# Mu modulus in all directions\n",
        "eta_yz_xz_0 = compliance_original[3][4] * Gxz_0\n",
        "eta_yz_xy_0 = compliance_original[3][5] * Gxy_0\n",
        "eta_xz_yz_0 = compliance_original[4][3] * Gyz_0\n",
        "eta_xz_xy_0 = compliance_original[4][5] * Gxy_0\n",
        "eta_xy_yz_0 = compliance_original[5][3] * Gyz_0\n",
        "eta_xy_xz_0 = compliance_original[5][4] * Gxz_0\n",
        "\n",
        "print('Before rotation:')\n",
        "print('Coefficient of strain in yz plane caused by tangential stress in xz plane:', eta_yz_xz_0, 'GPa')\n",
        "print('Coefficient of strain in yz plane caused by tangential stress in xy plane:', eta_yz_xy_0, 'GPa')\n",
        "print('Coefficient of strain in xz plane caused by tangential stress in yz plane:', eta_xz_yz_0, 'GPa')\n",
        "print('Coefficient of strain in xz plane caused by tangential stress in xy plane:', eta_xz_xy_0, 'GPa')\n",
        "print('Coefficient of strain in xy plane caused by tangential stress in yz plane:', eta_xy_yz_0, 'GPa')\n",
        "print('Coefficient of strain in xy plane caused by tangential stress in xz plane:', eta_xy_xz_0, 'GPa \\n')\n",
        "\n",
        "\" After rotation (TTI)\"\n",
        "\n",
        "# Mu modulus in all directions\n",
        "\n",
        "eta_yz_xz_1 = compliance_trans[3][4] * Gxz_1\n",
        "eta_yz_xy_1 = compliance_trans[3][5] * Gxy_1\n",
        "eta_xz_yz_1 = compliance_trans[4][3] * Gyz_1\n",
        "eta_xz_xy_1 = compliance_trans[4][5] * Gxy_1\n",
        "eta_xy_yz_1 = compliance_trans[5][3] * Gyz_1\n",
        "eta_xy_xz_1 = compliance_trans[5][4] * Gxz_1\n",
        "\n",
        "print('After rotation:')\n",
        "print('Coefficient of strain in yz plane caused by tangential stress in xz plane:', eta_yz_xz_1, 'GPa')\n",
        "print('Coefficient of strain in yz plane caused by tangential stress in xy plane:', eta_yz_xy_1, 'GPa')\n",
        "print('Coefficient of strain in xz plane caused by tangential stress in yz plane:', eta_xz_yz_1, 'GPa')\n",
        "print('Coefficient of strain in xz plane caused by tangential stress in xy plane:', eta_xz_xy_1, 'GPa')\n",
        "print('Coefficient of strain in xy plane caused by tangential stress in yz plane:', eta_xy_yz_1, 'GPa')\n",
        "print('Coefficient of strain in xy plane caused by tangential stress in xz plane:', eta_xy_xz_1, 'GPa')"
      ],
      "execution_count": null,
      "outputs": [
        {
          "output_type": "stream",
          "text": [
            "Before rotation:\n",
            "Coefficient of strain in yz plane caused by tangential stress in xz plane: 0.0 GPa\n",
            "Coefficient of strain in yz plane caused by tangential stress in xy plane: 0.0 GPa\n",
            "Coefficient of strain in xz plane caused by tangential stress in yz plane: 0.0 GPa\n",
            "Coefficient of strain in xz plane caused by tangential stress in xy plane: 0.0 GPa\n",
            "Coefficient of strain in xy plane caused by tangential stress in yz plane: 0.0 GPa\n",
            "Coefficient of strain in xy plane caused by tangential stress in xz plane: 0.0 GPa \n",
            "\n",
            "After rotation:\n",
            "Coefficient of strain in yz plane caused by tangential stress in xz plane: 0.19001117549389046 GPa\n",
            "Coefficient of strain in yz plane caused by tangential stress in xy plane: -0.04615402032652601 GPa\n",
            "Coefficient of strain in xz plane caused by tangential stress in yz plane: 0.3473016726305247 GPa\n",
            "Coefficient of strain in xz plane caused by tangential stress in xy plane: -0.18224143258919023 GPa\n",
            "Coefficient of strain in xy plane caused by tangential stress in yz plane: -0.07572607549385856 GPa\n",
            "Coefficient of strain in xy plane caused by tangential stress in xz plane: -0.163589454264449 GPa\n"
          ],
          "name": "stdout"
        }
      ]
    },
    {
      "cell_type": "markdown",
      "metadata": {
        "id": "ovmsgCiPBrAX",
        "colab_type": "text"
      },
      "source": [
        "Poisson's ratio $\\nu_{ij}$ (ratio of shear strain in $j$ direction to shear strain in $i$ direction given external force in $i$ direction)"
      ]
    },
    {
      "cell_type": "code",
      "metadata": {
        "id": "1T-9NNquCKnj",
        "colab_type": "code",
        "colab": {
          "base_uri": "https://localhost:8080/",
          "height": 281
        },
        "outputId": "d13b0710-5ab8-4527-cbef-bc2aec66c5df"
      },
      "source": [
        "\" Before rotation (VTI)\"\n",
        "\n",
        "# Poisson's ratio in all directions\n",
        "poisson_yx_0 = -compliance_original[0][1] * Ey_0\n",
        "poisson_zx_0 = -compliance_original[0][2] * Ez_0\n",
        "poisson_xy_0 = -compliance_original[1][0] * Ex_0\n",
        "poisson_zy_0 = -compliance_original[1][2] * Ez_0\n",
        "poisson_xz_0 = -compliance_original[2][0] * Ex_0\n",
        "poisson_yz_0 = -compliance_original[2][1] * Ey_0\n",
        "\n",
        "print('Before rotation:')\n",
        "print('Ratio of shear strain in x direction to shear strain in y direction given ext force in y direction:', poisson_yx_0, 'GPa')\n",
        "print('Ratio of shear strain in x direction to shear strain in z direction given ext force in z direction:', poisson_zx_0, 'GPa')\n",
        "print('Ratio of shear strain in y direction to shear strain in x direction given ext force in x direction:', poisson_xy_0, 'GPa')\n",
        "print('Ratio of shear strain in y direction to shear strain in z direction given ext force in z direction:', poisson_zy_0, 'GPa')\n",
        "print('Ratio of shear strain in z direction to shear strain in x direction given ext force in x direction:', poisson_xz_0, 'GPa')\n",
        "print('Ratio of shear strain in z direction to shear strain in y direction given ext force in y direction:', poisson_yz_0, 'GPa \\n')\n",
        "\n",
        "\" After rotation (TTI)\"\n",
        "\n",
        "# Poisson's ratio in all directions\n",
        "poisson_yx_1 = -compliance_trans[0][1] * Ey_1\n",
        "poisson_zx_1 = -compliance_trans[0][2] * Ez_1\n",
        "poisson_xy_1 = -compliance_trans[1][0] * Ex_1\n",
        "poisson_zy_1 = -compliance_trans[1][2] * Ez_1\n",
        "poisson_xz_1 = -compliance_trans[2][0] * Ex_1\n",
        "poisson_yz_1 = -compliance_trans[2][1] * Ey_1\n",
        "\n",
        "print('After rotation:')\n",
        "print('Ratio of shear strain in x direction to shear strain in y direction given ext force in y direction:', poisson_yx_1, 'GPa')\n",
        "print('Ratio of shear strain in x direction to shear strain in z direction given ext force in z direction:', poisson_zx_1, 'GPa')\n",
        "print('Ratio of shear strain in y direction to shear strain in x direction given ext force in x direction:', poisson_xy_1, 'GPa')\n",
        "print('Ratio of shear strain in y direction to shear strain in z direction given ext force in z direction:', poisson_zy_1, 'GPa')\n",
        "print('Ratio of shear strain in z direction to shear strain in x direction given ext force in x direction:', poisson_xz_1, 'GPa')\n",
        "print('Ratio of shear strain in z direction to shear strain in y direction given ext force in y direction:', poisson_yz_1, 'GPa')"
      ],
      "execution_count": null,
      "outputs": [
        {
          "output_type": "stream",
          "text": [
            "Before rotation:\n",
            "Ratio of shear strain in x direction to shear strain in y direction given ext force in y direction: 0.3198676925747474 GPa\n",
            "Ratio of shear strain in x direction to shear strain in z direction given ext force in z direction: 0.25652841781874036 GPa\n",
            "Ratio of shear strain in y direction to shear strain in x direction given ext force in x direction: 0.3198676925747474 GPa\n",
            "Ratio of shear strain in y direction to shear strain in z direction given ext force in z direction: 0.2565284178187404 GPa\n",
            "Ratio of shear strain in z direction to shear strain in x direction given ext force in x direction: 0.3337704829268797 GPa\n",
            "Ratio of shear strain in z direction to shear strain in y direction given ext force in y direction: 0.3337704829268798 GPa \n",
            "\n",
            "After rotation:\n",
            "Ratio of shear strain in x direction to shear strain in y direction given ext force in y direction: 0.23626921525077396 GPa\n",
            "Ratio of shear strain in x direction to shear strain in z direction given ext force in z direction: 0.19711474434738147 GPa\n",
            "Ratio of shear strain in y direction to shear strain in x direction given ext force in x direction: 0.4144527829396037 GPa\n",
            "Ratio of shear strain in y direction to shear strain in z direction given ext force in z direction: 0.5994895193058428 GPa\n",
            "Ratio of shear strain in z direction to shear strain in x direction given ext force in x direction: 0.3317892539331297 GPa\n",
            "Ratio of shear strain in z direction to shear strain in y direction given ext force in y direction: 0.5752503324571041 GPa\n"
          ],
          "name": "stdout"
        }
      ]
    },
    {
      "cell_type": "markdown",
      "metadata": {
        "id": "E0cNMD0l1ndI",
        "colab_type": "text"
      },
      "source": [
        "Applied stress ($\\sigma_{xx}$, $\\sigma_{yy}$, $\\sigma_{zz}$, $\\tau_{xy}$, $\\tau_{yz}$, $\\tau_{zx}$), calculate for strains ($\\epsilon_{xx}$, $\\epsilon_{yy}$, $\\epsilon_{zz}$, $\\gamma_{xy}$, $\\gamma_{yz}$, $\\gamma_{zx}$)"
      ]
    },
    {
      "cell_type": "code",
      "metadata": {
        "id": "2ENDItMg2l-j",
        "colab_type": "code",
        "colab": {
          "base_uri": "https://localhost:8080/",
          "height": 404
        },
        "outputId": "d9137b92-6668-4555-e1c6-593006fb5ded"
      },
      "source": [
        "# applied stresses\n",
        "sigma_xx = 100 # MPa\n",
        "sigma_yy = 100\n",
        "sigma_zz = 100\n",
        "tau_xy = 50\n",
        "tau_yz = 50\n",
        "tau_zx = 50\n",
        "\n",
        "stress = np.array([[sigma_xx],\n",
        "                   [sigma_yy],\n",
        "                   [sigma_zz],\n",
        "                   [tau_xy],\n",
        "                   [tau_yz],\n",
        "                   [tau_zx]])\n",
        "print('Stress vector (MPa):')\n",
        "print(stress, '\\n')\n",
        "\n",
        "# convert the compliance from 1/GPa to 1/MPa\n",
        "compliance_new = compliance_trans * 1E-03\n",
        "\n",
        "# strain is dot product of stress and compliance\n",
        "strain = np.dot(compliance_new, stress)\n",
        "print('Strain vector:')\n",
        "print(strain, '\\n')\n",
        "\n",
        "print('Normal strain in x direction:', strain[0][0])\n",
        "print('Normal strain in y direction:', strain[1][0])\n",
        "print('Normal strain in z direction:', strain[2][0])\n",
        "print('Shear strain in xy plane:', strain[3][0])\n",
        "print('Shear strain in yz plane:', strain[4][0])\n",
        "print('Shear strain in zx plane:', strain[5][0])"
      ],
      "execution_count": null,
      "outputs": [
        {
          "output_type": "stream",
          "text": [
            "Stress vector (MPa):\n",
            "[[100]\n",
            " [100]\n",
            " [100]\n",
            " [ 50]\n",
            " [ 50]\n",
            " [ 50]] \n",
            "\n",
            "Strain vector:\n",
            "[[0.0002963 ]\n",
            " [0.00073807]\n",
            " [0.00257069]\n",
            " [0.0028535 ]\n",
            " [0.00495929]\n",
            " [0.00310719]] \n",
            "\n",
            "Normal strain in x direction: 0.0002963012076580393\n",
            "Normal strain in y direction: 0.0007380665086672909\n",
            "Normal strain in z direction: 0.0025706927402367225\n",
            "Shear strain in xy plane: 0.0028535019810659898\n",
            "Shear strain in yz plane: 0.004959294063347863\n",
            "Shear strain in zx plane: 0.0031071923387636867\n"
          ],
          "name": "stdout"
        }
      ]
    },
    {
      "cell_type": "markdown",
      "metadata": {
        "id": "R_7Dltw-L3U_",
        "colab_type": "text"
      },
      "source": [
        "#### Full code"
      ]
    },
    {
      "cell_type": "code",
      "metadata": {
        "id": "GzrS15QxAs-C",
        "colab_type": "code",
        "colab": {
          "base_uri": "https://localhost:8080/",
          "height": 1000
        },
        "outputId": "be99920a-db17-40a1-af1d-87d6b769880e"
      },
      "source": [
        "A = 45.1\n",
        "C = 34.03 \n",
        "D = 8.28\n",
        "M = 12.55 \n",
        "F = 16.7\n",
        "B = A - 2 * M\n",
        "\n",
        "# stiffness tensor\n",
        "S = np.array([[A, B, F, 0, 0, 0],\n",
        "              [B, A, F, 0, 0, 0],\n",
        "              [F, F, C, 0, 0, 0],\n",
        "              [0, 0, 0, D, 0, 0],\n",
        "              [0, 0, 0, 0, D, 0],\n",
        "              [0, 0, 0, 0, 0, M]])\n",
        "print('Stiffness tensor:')\n",
        "print(S, '\\n')\n",
        "\n",
        "\" Strike and dip data \"\n",
        "\n",
        "strike = 160 # azimuth from north\n",
        "dip = 45\n",
        "theta = strike \n",
        "psi = dip \n",
        "\n",
        "\" direction cosines of rotation along Z axis (rotate strike) \"\n",
        "\n",
        "theta = strike # transformation angle\n",
        "\n",
        "a1 = np.cos(np.deg2rad(theta)); a2 = -np.sin(np.deg2rad(theta)); a3 = 0\n",
        "b1 = np.sin(np.deg2rad(theta)); b2 = np.cos(np.deg2rad(theta)); b3 = 0\n",
        "c1 = 0; c2 = 0; c3 = 1\n",
        "\n",
        "Z = np.array([[a1, a2, a3],\n",
        "              [b1, b2, b3],\n",
        "              [c1, c2, c3]])\n",
        "print('Direction cosine matrix after rotation of strike:')\n",
        "print(Z, '\\n')\n",
        "\n",
        "\" direction cosines of rotation along X axis (rotate dip) \"\n",
        "\n",
        "psi = dip # transformation angle\n",
        "\n",
        "d1 = 1; d2 = 0; d3 = 0\n",
        "e1 = 0; e2 = np.cos(np.deg2rad(psi)); e3 = -np.sin(np.deg2rad(psi))\n",
        "f1 = 0; f2 = np.sin(np.deg2rad(psi)); f3 = np.cos(np.deg2rad(psi))\n",
        "\n",
        "X = np.array([[d1, d2, d3],\n",
        "              [e1, e2, e3],\n",
        "              [f1, f2, f3]])\n",
        "print('Direction cosine matrix after rotation of dip:')\n",
        "print(X, '\\n')\n",
        "\n",
        "\" direction cosine of rotation combination of strike and dip \"\n",
        "\n",
        "L = np.dot(X, Z)\n",
        "print('Direction cosine matrix after rotation combination:')\n",
        "print(L, '\\n')\n",
        "\n",
        "\" direction cosine elements \"\n",
        "\n",
        "l1 = L[0][0]; l2 = L[0][1]; l3 = L[0][2]\n",
        "m1 = L[1][0]; m2 = L[1][1]; m3 = L[1][2]\n",
        "n1 = L[2][0]; n2 = L[2][1]; n3 = L[2][2]\n",
        "\n",
        "\" rotation tensor \"\n",
        "\n",
        "Y = np.array([[l1**2,   m1**2,   n1**2,   2*m1*n1,        2*n1*l1,        2*l1*m1],\n",
        "              [l2**2,   m2**2,   n2**2,   2*m2*n2,        2*n2*l2,        2*l2*m2],\n",
        "              [l3**2,   m3**2,   n3**2,   2*m3*n3,        2*n3*l3,        2*l3*m3],\n",
        "              [l2*l3,   m2*m3,   n2*n3,   m2*n3 + m3*n2,  n2*l3 + n3*l2,  m2*l3 + m3*l2],\n",
        "              [l3*l1,   m3*m1,   n3*n1,   m3*n1 + m1*n3,  n3*l1 + n1*l3,  m3*l1 + m1*l3],\n",
        "              [l1*l2,   m1*m2,   n1*n2,   m1*n2 + m2*n1,  n1*l2 + n2*l1,  m1*l2 + m2*l1]])\n",
        "print('Rotation tensor:')\n",
        "print(Y, '\\n')\n",
        "\n",
        "\" transformation of stiffness \"\n",
        "\n",
        "Y_inv = np.linalg.inv(Y)\n",
        "S_dot = np.dot(Y, S)\n",
        "S_trans = np.dot(S_dot, Y_inv)\n",
        "print('Transformed stiffness tensor:')\n",
        "print(S_trans, '\\n')\n",
        "\n",
        "\" compliance tensor, inverse of stiffness tensor \"\n",
        "\n",
        "# original compliance tensor\n",
        "compliance_original = np.linalg.inv(S)\n",
        "print('Original compliance tensor:')\n",
        "print(compliance_original, '\\n')\n",
        "\n",
        "# transformed compliance tensor\n",
        "compliance_trans = np.linalg.inv(S_trans)\n",
        "print('Transformed compliance tensor:')\n",
        "print(compliance_trans, '\\n')"
      ],
      "execution_count": null,
      "outputs": [
        {
          "output_type": "stream",
          "text": [
            "Stiffness tensor:\n",
            "[[45.1  20.   16.7   0.    0.    0.  ]\n",
            " [20.   45.1  16.7   0.    0.    0.  ]\n",
            " [16.7  16.7  34.03  0.    0.    0.  ]\n",
            " [ 0.    0.    0.    8.28  0.    0.  ]\n",
            " [ 0.    0.    0.    0.    8.28  0.  ]\n",
            " [ 0.    0.    0.    0.    0.   12.55]] \n",
            "\n",
            "Direction cosine matrix after rotation of strike:\n",
            "[[-0.93969262 -0.34202014  0.        ]\n",
            " [ 0.34202014 -0.93969262  0.        ]\n",
            " [ 0.          0.          1.        ]] \n",
            "\n",
            "Direction cosine matrix after rotation of dip:\n",
            "[[ 1.          0.          0.        ]\n",
            " [ 0.          0.70710678 -0.70710678]\n",
            " [ 0.          0.70710678  0.70710678]] \n",
            "\n",
            "Direction cosine matrix after rotation combination:\n",
            "[[-0.93969262 -0.34202014  0.        ]\n",
            " [ 0.24184476 -0.66446302 -0.70710678]\n",
            " [ 0.24184476 -0.66446302  0.70710678]] \n",
            "\n",
            "Rotation tensor:\n",
            "[[ 8.83022222e-01  5.84888892e-02  5.84888892e-02  1.16977778e-01\n",
            "  -4.54519478e-01 -4.54519478e-01]\n",
            " [ 1.16977778e-01  4.41511111e-01  4.41511111e-01  8.83022222e-01\n",
            "   4.54519478e-01  4.54519478e-01]\n",
            " [ 0.00000000e+00  5.00000000e-01  5.00000000e-01 -1.00000000e+00\n",
            "   0.00000000e+00 -0.00000000e+00]\n",
            " [-0.00000000e+00  4.69846310e-01 -4.69846310e-01 -1.66533454e-16\n",
            "  -2.41844763e-01  2.41844763e-01]\n",
            " [-0.00000000e+00 -1.71010072e-01  1.71010072e-01  5.55111512e-17\n",
            "  -6.64463024e-01  6.64463024e-01]\n",
            " [ 3.21393805e-01 -1.60696902e-01 -1.60696902e-01 -3.21393805e-01\n",
            "   5.41675220e-01  5.41675220e-01]] \n",
            "\n",
            "Transformed stiffness tensor:\n",
            "[[41.54985679 20.39961075 19.01004711  2.87729203 -2.50767467  9.00794099]\n",
            " [20.39961075 31.7234217  23.33245289  5.42489228 -0.5140733  -0.76258293]\n",
            " [19.01004711 23.33245289 32.2725      5.20119866 -1.89308149 -3.62692909]\n",
            " [ 1.43864601  2.71244614  2.60059933 21.40862666 -4.00135287 -0.11561983]\n",
            " [-1.25383733 -0.25703665 -0.94654075 -4.00135287 11.87137334  1.78255012]\n",
            " [ 4.5039705  -0.38129146 -1.81346454 -0.11561983  1.78255012 14.51422151]] \n",
            "\n",
            "Original compliance tensor:\n",
            "[[ 0.03018533 -0.00965531 -0.01007497  0.          0.          0.        ]\n",
            " [-0.00965531  0.03018533 -0.01007497  0.          0.          0.        ]\n",
            " [-0.01007497 -0.01007497  0.03927429  0.          0.          0.        ]\n",
            " [ 0.          0.          0.          0.12077295  0.          0.        ]\n",
            " [ 0.          0.          0.          0.          0.12077295  0.        ]\n",
            " [ 0.          0.          0.          0.          0.          0.07968127]] \n",
            "\n",
            "Transformed compliance tensor:\n",
            "[[ 0.04319905 -0.01790397 -0.01433298  0.0043656   0.01246523 -0.03282901]\n",
            " [-0.01790397  0.07577782 -0.04359122 -0.00824167 -0.01105446  0.00549218]\n",
            " [-0.01433298 -0.04359122  0.07271389 -0.00427042  0.0015543   0.02455057]\n",
            " [ 0.0021828  -0.00412083 -0.00213521  0.05128796  0.01781239 -0.00388384]\n",
            " [ 0.00623261 -0.00552723  0.00077715  0.01781239  0.09374393 -0.01533552]\n",
            " [-0.01641451  0.00274609  0.01227529 -0.00388384 -0.01533552  0.08414946]] \n",
            "\n"
          ],
          "name": "stdout"
        }
      ]
    },
    {
      "cell_type": "markdown",
      "metadata": {
        "id": "BXmCapH91XrY",
        "colab_type": "text"
      },
      "source": [
        "### Rotation of stiffness matrix along X axis\n",
        "\n",
        "![rotation matrix](https://user-images.githubusercontent.com/51282928/78970364-56ead300-7b33-11ea-926b-41b889275577.PNG)"
      ]
    },
    {
      "cell_type": "code",
      "metadata": {
        "id": "6Diq8oAadgKT",
        "colab_type": "code",
        "colab": {
          "base_uri": "https://localhost:8080/",
          "height": 615
        },
        "outputId": "a45d23be-0bda-46b2-e755-6a1cd4d4d029"
      },
      "source": [
        "A = 45.1\n",
        "C = 34.03 \n",
        "D = 8.28\n",
        "M = 12.55 \n",
        "F = 16.7\n",
        "B = A - 2 * M\n",
        "\n",
        "# stiffness tensor\n",
        "S = np.array([[A, B, F, 0, 0, 0],\n",
        "              [B, A, F, 0, 0, 0],\n",
        "              [F, F, C, 0, 0, 0],\n",
        "              [0, 0, 0, D, 0, 0],\n",
        "              [0, 0, 0, 0, D, 0],\n",
        "              [0, 0, 0, 0, 0, M]])\n",
        "print('Stiffness tensor:')\n",
        "print(S, '\\n')\n",
        "\n",
        "# direction cosines of rotation along X axis\n",
        "theta = 45 # transformation angle\n",
        "l1 = 1; l2 = 0; l3 = 0\n",
        "m1 = 0; m2 = np.cos(np.deg2rad(theta)); m3 = -np.sin(np.deg2rad(theta))\n",
        "n1 = 0; n2 = np.sin(np.deg2rad(theta)); n3 = np.cos(np.deg2rad(theta))\n",
        "\n",
        "X = np.array([[l1, l2, l3],\n",
        "              [m1, m2, m3],\n",
        "              [n1, n2, n3]])\n",
        "print('Direction cosine matrix with angle', theta, ':')\n",
        "print(X, '\\n')\n",
        "\n",
        "# rotation tensor\n",
        "Y = np.array([[l1**2,   m1**2,   n1**2,   2*m1*n1,        2*n1*l1,        2*l1*m1],\n",
        "              [l2**2,   m2**2,   n2**2,   2*m2*n2,        2*n2*l2,        2*l2*m2],\n",
        "              [l3**2,   m3**2,   n3**2,   2*m3*n3,        2*n3*l3,        2*l3*m3],\n",
        "              [l2*l3,   m2*m3,   n2*n3,   m2*n3 + m3*n2,  n2*l3 + n3*l2,  m2*l3 + m3*l2],\n",
        "              [l3*l1,   m3*m1,   n3*n1,   m3*n1 + m1*n3,  n3*l1 + n1*l3,  m3*l1 + m1*l3],\n",
        "              [l1*l2,   m1*m2,   n1*n2,   m1*n2 + m2*n1,  n1*l2 + n2*l1,  m1*l2 + m2*l1]])\n",
        "print('Rotation tensor with angle', theta, ':')\n",
        "print(Y, '\\n')\n",
        "\n",
        "# transformation of stiffness\n",
        "Y_inv = np.linalg.inv(Y)\n",
        "S_dot = np.dot(Y, S)\n",
        "S_trans = np.dot(S_dot, Y_inv)\n",
        "print('Transformed stiffness tensor with angle', theta, ':')\n",
        "print(S_trans)"
      ],
      "execution_count": null,
      "outputs": [
        {
          "output_type": "stream",
          "text": [
            "Stiffness tensor:\n",
            "[[45.1  20.   16.7   0.    0.    0.  ]\n",
            " [20.   45.1  16.7   0.    0.    0.  ]\n",
            " [16.7  16.7  34.03  0.    0.    0.  ]\n",
            " [ 0.    0.    0.    8.28  0.    0.  ]\n",
            " [ 0.    0.    0.    0.    8.28  0.  ]\n",
            " [ 0.    0.    0.    0.    0.   12.55]] \n",
            "\n",
            "Direction cosine matrix with angle 45 :\n",
            "[[ 1.          0.          0.        ]\n",
            " [ 0.          0.70710678 -0.70710678]\n",
            " [ 0.          0.70710678  0.70710678]] \n",
            "\n",
            "Rotation tensor with angle 45 :\n",
            "[[ 1.00000000e+00  0.00000000e+00  0.00000000e+00  0.00000000e+00\n",
            "   0.00000000e+00  0.00000000e+00]\n",
            " [ 0.00000000e+00  5.00000000e-01  5.00000000e-01  1.00000000e+00\n",
            "   0.00000000e+00  0.00000000e+00]\n",
            " [ 0.00000000e+00  5.00000000e-01  5.00000000e-01 -1.00000000e+00\n",
            "   0.00000000e+00 -0.00000000e+00]\n",
            " [ 0.00000000e+00 -5.00000000e-01  5.00000000e-01  2.22044605e-16\n",
            "   0.00000000e+00  0.00000000e+00]\n",
            " [ 0.00000000e+00 -0.00000000e+00  0.00000000e+00  0.00000000e+00\n",
            "   7.07106781e-01 -7.07106781e-01]\n",
            " [ 0.00000000e+00  0.00000000e+00  0.00000000e+00  0.00000000e+00\n",
            "   7.07106781e-01  7.07106781e-01]] \n",
            "\n",
            "Transformed stiffness tensor with angle 45 :\n",
            "[[45.1    18.35   18.35   -3.3     0.      0.    ]\n",
            " [18.35   32.2725 23.9925 -5.535   0.      0.    ]\n",
            " [18.35   23.9925 32.2725 -5.535   0.      0.    ]\n",
            " [-1.65   -2.7675 -2.7675 22.865   0.      0.    ]\n",
            " [ 0.      0.      0.      0.     10.415  -2.135 ]\n",
            " [ 0.      0.      0.      0.     -2.135  10.415 ]]\n"
          ],
          "name": "stdout"
        }
      ]
    },
    {
      "cell_type": "markdown",
      "metadata": {
        "id": "BRGmuhGxCdKn",
        "colab_type": "text"
      },
      "source": [
        "### Iteration to see how stiffness changes due to changing strikes and constant dips"
      ]
    },
    {
      "cell_type": "code",
      "metadata": {
        "id": "Akfsdn3sDQi8",
        "colab_type": "code",
        "colab": {
          "base_uri": "https://localhost:8080/"
        },
        "outputId": "0fdc2ab2-50bc-4485-ed2c-b439daaf2eae"
      },
      "source": [
        "A = 45.1\n",
        "C = 34.03 \n",
        "D = 8.28\n",
        "M = 12.55 \n",
        "F = 16.7\n",
        "B = A - 2 * M\n",
        "\n",
        "# stiffness tensor\n",
        "S = np.array([[A, B, F, 0, 0, 0],\n",
        "              [B, A, F, 0, 0, 0],\n",
        "              [F, F, C, 0, 0, 0],\n",
        "              [0, 0, 0, D, 0, 0],\n",
        "              [0, 0, 0, 0, D, 0],\n",
        "              [0, 0, 0, 0, 0, M]])\n",
        "\n",
        "\" Strike and dip data \"\n",
        "\n",
        "strike = np.arange(0, 180, 5) # azimuth from north\n",
        "dip = 30\n",
        "theta = strike \n",
        "psi = dip \n",
        "\n",
        "c11 = []; c12 = []; c13 = []\n",
        "c21 = []; c22 = []; c23 = []\n",
        "c31 = []; c32 = []; c33 = []\n",
        "\n",
        "c14 = []; c15 = []; c16 = []\n",
        "c24 = []; c25 = []; c26 = []\n",
        "c34 = []; c35 = []; c36 = []\n",
        "\n",
        "c41 = []; c42 = []; c43 = []\n",
        "c51 = []; c52 = []; c53 = []\n",
        "c61 = []; c62 = []; c63 = []\n",
        "\n",
        "c44 = []; c45 = []; c46 = []\n",
        "c54 = []; c55 = []; c56 = []\n",
        "c64 = []; c65 = []; c66 = []\n",
        "\n",
        "for i in range(len(strike)):\n",
        "  \" direction cosines of rotation along Z axis (rotate strike) \"\n",
        "\n",
        "  theta = strike[i] # transformation angle\n",
        "\n",
        "  a1 = np.cos(np.deg2rad(theta)); a2 = -np.sin(np.deg2rad(theta)); a3 = 0\n",
        "  b1 = np.sin(np.deg2rad(theta)); b2 = np.cos(np.deg2rad(theta)); b3 = 0\n",
        "  c1 = 0; c2 = 0; c3 = 1\n",
        "\n",
        "  Z = np.array([[a1, a2, a3],\n",
        "                [b1, b2, b3],\n",
        "                [c1, c2, c3]])\n",
        "  \n",
        "  \" direction cosines of rotation along X axis (rotate dip) \"\n",
        "\n",
        "  psi = dip # transformation angle\n",
        "\n",
        "  d1 = 1; d2 = 0; d3 = 0\n",
        "  e1 = 0; e2 = np.cos(np.deg2rad(psi)); e3 = -np.sin(np.deg2rad(psi))\n",
        "  f1 = 0; f2 = np.sin(np.deg2rad(psi)); f3 = np.cos(np.deg2rad(psi))\n",
        "\n",
        "  X = np.array([[d1, d2, d3],\n",
        "                [e1, e2, e3],\n",
        "                [f1, f2, f3]])\n",
        "\n",
        "  \" direction cosine of rotation combination of strike and dip \"\n",
        "\n",
        "  L = np.dot(X, Z)\n",
        "\n",
        "  \" direction cosine elements \"\n",
        "\n",
        "  l1 = L[0][0]; l2 = L[0][1]; l3 = L[0][2]\n",
        "  m1 = L[1][0]; m2 = L[1][1]; m3 = L[1][2]\n",
        "  n1 = L[2][0]; n2 = L[2][1]; n3 = L[2][2]\n",
        "\n",
        "  \" rotation tensor \"\n",
        "\n",
        "  Y = np.array([[l1**2,   m1**2,   n1**2,   2*m1*n1,        2*n1*l1,        2*l1*m1],\n",
        "                [l2**2,   m2**2,   n2**2,   2*m2*n2,        2*n2*l2,        2*l2*m2],\n",
        "                [l3**2,   m3**2,   n3**2,   2*m3*n3,        2*n3*l3,        2*l3*m3],\n",
        "                [l2*l3,   m2*m3,   n2*n3,   m2*n3 + m3*n2,  n2*l3 + n3*l2,  m2*l3 + m3*l2],\n",
        "                [l3*l1,   m3*m1,   n3*n1,   m3*n1 + m1*n3,  n3*l1 + n1*l3,  m3*l1 + m1*l3],\n",
        "                [l1*l2,   m1*m2,   n1*n2,   m1*n2 + m2*n1,  n1*l2 + n2*l1,  m1*l2 + m2*l1]])\n",
        "\n",
        "  \" transformation of stiffness \"\n",
        "\n",
        "  Y_inv = np.linalg.inv(Y)\n",
        "  S_dot = np.dot(Y, S)\n",
        "  S_trans = np.dot(S_dot, Y_inv)\n",
        "\n",
        "  \" results of the stiffness elements \"\n",
        "\n",
        "  c11.append(float(S_trans[0][0])); c12.append(float(S_trans[0][1])); c13.append(float(S_trans[0][2]))\n",
        "  c21.append(float(S_trans[1][0])); c22.append(float(S_trans[1][1])); c23.append(float(S_trans[1][2]))\n",
        "  c31.append(float(S_trans[2][0])); c32.append(float(S_trans[2][1])); c33.append(float(S_trans[2][2]))\n",
        "\n",
        "  c14.append(float(S_trans[0][3])); c15.append(float(S_trans[0][4])); c16.append(float(S_trans[0][5]))\n",
        "  c24.append(float(S_trans[1][3])); c25.append(float(S_trans[1][4])); c26.append(float(S_trans[1][5]))\n",
        "  c34.append(float(S_trans[2][3])); c35.append(float(S_trans[2][4])); c36.append(float(S_trans[2][5]))\n",
        "\n",
        "  c41.append(float(S_trans[3][0])); c42.append(float(S_trans[3][1])); c43.append(float(S_trans[3][2]))\n",
        "  c51.append(float(S_trans[4][0])); c52.append(float(S_trans[4][1])); c53.append(float(S_trans[4][2]))\n",
        "  c61.append(float(S_trans[5][0])); c62.append(float(S_trans[5][1])); c63.append(float(S_trans[5][2]))\n",
        "\n",
        "  c44.append(float(S_trans[3][3])); c45.append(float(S_trans[3][4])); c46.append(float(S_trans[3][5]))\n",
        "  c54.append(float(S_trans[4][3])); c55.append(float(S_trans[4][4])); c56.append(float(S_trans[4][5]))\n",
        "  c64.append(float(S_trans[5][3])); c65.append(float(S_trans[5][4])); c66.append(float(S_trans[5][5]))\n",
        "\n",
        "plt.plot(strike, c66, '.-')\n",
        "plt.title('Anisotropy Stiffness Element C66', size=17, pad=10)\n",
        "plt.xlabel('Strike of bedding plane ($N...^oE$)', size=15)\n",
        "plt.ylabel('Stiffness (GPa)', size=15)\n",
        "plt.xlim(0, max(strike))"
      ],
      "execution_count": null,
      "outputs": [
        {
          "output_type": "execute_result",
          "data": {
            "text/plain": [
              "(0.0, 175.0)"
            ]
          },
          "metadata": {
            "tags": []
          },
          "execution_count": 10
        },
        {
          "output_type": "display_data",
          "data": {
            "image/png": "[encoded data removed]",
            "text/plain": [
              "<Figure size 432x288 with 1 Axes>"
            ]
          },
          "metadata": {
            "tags": [],
            "needs_background": "light"
          }
        }
      ]
    },
    {
      "cell_type": "code",
      "metadata": {
        "colab_type": "code",
        "id": "ExBO90Qo-XC_",
        "colab": {
          "base_uri": "https://localhost:8080/",
          "height": 246
        },
        "outputId": "0104c2e3-909d-4104-f783-8d2a482ecbf1"
      },
      "source": [
        "\" direction cosines of rotation along X axis (rotate dip) \"\n",
        "\n",
        "theta = dip # transformation angle\n",
        "l1 = 1; l2 = 0; l3 = 0\n",
        "m1 = 0; m2 = np.cos(np.deg2rad(theta)); m3 = -np.sin(np.deg2rad(theta))\n",
        "n1 = 0; n2 = np.sin(np.deg2rad(theta)); n3 = np.cos(np.deg2rad(theta))\n",
        "\n",
        "X = np.array([[l1, l2, l3],\n",
        "              [m1, m2, m3],\n",
        "              [n1, n2, n3]])\n",
        "\n",
        "# rotation tensor\n",
        "Y = np.array([[l1**2,   m1**2,   n1**2,   2*m1*n1,        2*n1*l1,        2*l1*m1],\n",
        "              [l2**2,   m2**2,   n2**2,   2*m2*n2,        2*n2*l2,        2*l2*m2],\n",
        "              [l3**2,   m3**2,   n3**2,   2*m3*n3,        2*n3*l3,        2*l3*m3],\n",
        "              [l2*l3,   m2*m3,   n2*n3,   m2*n3 + m3*n2,  n2*l3 + n3*l2,  m2*l3 + m3*l2],\n",
        "              [l3*l1,   m3*m1,   n3*n1,   m3*n1 + m1*n3,  n3*l1 + n1*l3,  m3*l1 + m1*l3],\n",
        "              [l1*l2,   m1*m2,   n1*n2,   m1*n2 + m2*n1,  n1*l2 + n2*l1,  m1*l2 + m2*l1]])\n",
        "\n",
        "# transformation of stiffness\n",
        "Y_inv = np.linalg.inv(Y)\n",
        "\n",
        "S_dot_dip = np.dot(Y, S_trans_strike)\n",
        "S_trans_dip = np.dot(S_dot_dip, Y_inv)\n",
        "print('Transformed stiffness tensor with angle', theta, ':')\n",
        "print(S_trans_dip)"
      ],
      "execution_count": null,
      "outputs": [
        {
          "output_type": "stream",
          "text": [
            "Transformed stiffness tensor with angle 45 :\n",
            "[[ 3.88250000e+01  2.14875000e+01  2.14875000e+01 -9.57500000e+00\n",
            "   3.05382983e-15 -3.05382983e-15]\n",
            " [ 2.14875000e+01  3.07037500e+01  2.24237500e+01 -2.39750000e+00\n",
            "  -1.68472006e-15  1.36910978e-15]\n",
            " [ 2.14875000e+01  2.24237500e+01  3.07037500e+01 -2.39750000e+00\n",
            "  -1.36910978e-15  1.68472006e-15]\n",
            " [-4.78750000e+00 -1.19875000e+00 -1.19875000e+00  1.97275000e+01\n",
            "   1.52691492e-15 -1.52691492e-15]\n",
            " [ 1.25607397e-15 -6.99167993e-16 -5.56905974e-16  1.25607397e-15\n",
            "   1.66900000e+01 -8.41000000e+00]\n",
            " [-1.25607397e-15  5.56905974e-16  6.99167993e-16 -1.25607397e-15\n",
            "  -8.41000000e+00  1.66900000e+01]]\n"
          ],
          "name": "stdout"
        }
      ]
    },
    {
      "cell_type": "markdown",
      "metadata": {
        "id": "R9lSCsVA1ckA",
        "colab_type": "text"
      },
      "source": [
        "### Rotation of a bedding plane with strike and dip"
      ]
    },
    {
      "cell_type": "code",
      "metadata": {
        "id": "zlRcxRZo1jBi",
        "colab_type": "code",
        "colab": {
          "base_uri": "https://localhost:8080/"
        },
        "outputId": "25588386-2c0c-4df9-c327-4649882c7d54"
      },
      "source": [
        "strike = 45 # azimuth from north\n",
        "dip = 45\n",
        "\n",
        "A = 45.1\n",
        "C = 34.03 \n",
        "D = 8.28\n",
        "M = 12.55 \n",
        "F = 16.7\n",
        "B = A - 2 * M\n",
        "\n",
        "# stiffness tensor\n",
        "S = np.array([[A, B, F, 0, 0, 0],\n",
        "              [B, A, F, 0, 0, 0],\n",
        "              [F, F, C, 0, 0, 0],\n",
        "              [0, 0, 0, D, 0, 0],\n",
        "              [0, 0, 0, 0, D, 0],\n",
        "              [0, 0, 0, 0, 0, M]])\n",
        "print('Stiffness tensor:')\n",
        "print(S, '\\n')\n",
        "\n",
        "\" rotate along z-axis (rotate strike) \"\n",
        "\n",
        "# direction cosines of rotation along Z axis\n",
        "theta = strike # transformation angle\n",
        "\n",
        "l1 = np.cos(np.deg2rad(theta)); l2 = -np.sin(np.deg2rad(theta)); l3 = 0\n",
        "m1 = np.sin(np.deg2rad(theta)); m2 = np.cos(np.deg2rad(theta)); m3 = 0\n",
        "n1 = 0; n2 = 0; n3 = 1\n",
        "\n",
        "X = np.array([[l1, l2, l3],\n",
        "              [m1, m2, m3],\n",
        "              [n1, n2, n3]])\n",
        "\n",
        "# rotation tensor\n",
        "Y = np.array([[l1**2,   m1**2,   n1**2,   2*m1*n1,        2*n1*l1,        2*l1*m1],\n",
        "              [l2**2,   m2**2,   n2**2,   2*m2*n2,        2*n2*l2,        2*l2*m2],\n",
        "              [l3**2,   m3**2,   n3**2,   2*m3*n3,        2*n3*l3,        2*l3*m3],\n",
        "              [l2*l3,   m2*m3,   n2*n3,   m2*n3 + m3*n2,  n2*l3 + n3*l2,  m2*l3 + m3*l2],\n",
        "              [l3*l1,   m3*m1,   n3*n1,   m3*n1 + m1*n3,  n3*l1 + n1*l3,  m3*l1 + m1*l3],\n",
        "              [l1*l2,   m1*m2,   n1*n2,   m1*n2 + m2*n1,  n1*l2 + n2*l1,  m1*l2 + m2*l1]])\n",
        "\n",
        "# transformation of stiffness\n",
        "Y_inv = np.linalg.inv(Y)\n",
        "S_dot_strike = np.dot(Y, S)\n",
        "S_trans_strike = np.dot(S_dot_strike, Y_inv)\n",
        "print('Transformed stiffness tensor after strike rotated with angle', theta, ':')\n",
        "print(S_trans_strike)"
      ],
      "execution_count": null,
      "outputs": [
        {
          "output_type": "stream",
          "text": [
            "Stiffness tensor:\n",
            "[[45.1  20.   16.7   0.    0.    0.  ]\n",
            " [20.   45.1  16.7   0.    0.    0.  ]\n",
            " [16.7  16.7  34.03  0.    0.    0.  ]\n",
            " [ 0.    0.    0.    8.28  0.    0.  ]\n",
            " [ 0.    0.    0.    0.    8.28  0.  ]\n",
            " [ 0.    0.    0.    0.    0.   12.55]] \n",
            "\n",
            "Transformed stiffness tensor after strike rotated with angle 45 :\n",
            "[[ 3.88250000e+01  2.62750000e+01  1.67000000e+01  0.00000000e+00\n",
            "   0.00000000e+00 -4.31876757e-15]\n",
            " [ 2.62750000e+01  3.88250000e+01  1.67000000e+01  0.00000000e+00\n",
            "   0.00000000e+00  4.31876757e-15]\n",
            " [ 1.67000000e+01  1.67000000e+01  3.40300000e+01  0.00000000e+00\n",
            "   0.00000000e+00  0.00000000e+00]\n",
            " [ 0.00000000e+00  0.00000000e+00  0.00000000e+00  8.28000000e+00\n",
            "  -2.23170170e-16  0.00000000e+00]\n",
            " [ 0.00000000e+00  0.00000000e+00  0.00000000e+00 -2.01188876e-16\n",
            "   8.28000000e+00  0.00000000e+00]\n",
            " [-1.77635684e-15  1.77635684e-15  0.00000000e+00  0.00000000e+00\n",
            "   0.00000000e+00  2.51000000e+01]]\n"
          ],
          "name": "stdout"
        }
      ]
    },
    {
      "cell_type": "code",
      "metadata": {
        "id": "Rjd9nEeJ3kae",
        "colab_type": "code",
        "colab": {
          "base_uri": "https://localhost:8080/"
        },
        "outputId": "0104c2e3-909d-4104-f783-8d2a482ecbf1"
      },
      "source": [
        "\" direction cosines of rotation along X axis (rotate dip) \"\n",
        "\n",
        "theta = dip # transformation angle\n",
        "l1 = 1; l2 = 0; l3 = 0\n",
        "m1 = 0; m2 = np.cos(np.deg2rad(theta)); m3 = -np.sin(np.deg2rad(theta))\n",
        "n1 = 0; n2 = np.sin(np.deg2rad(theta)); n3 = np.cos(np.deg2rad(theta))\n",
        "\n",
        "X = np.array([[l1, l2, l3],\n",
        "              [m1, m2, m3],\n",
        "              [n1, n2, n3]])\n",
        "\n",
        "# rotation tensor\n",
        "Y = np.array([[l1**2,   m1**2,   n1**2,   2*m1*n1,        2*n1*l1,        2*l1*m1],\n",
        "              [l2**2,   m2**2,   n2**2,   2*m2*n2,        2*n2*l2,        2*l2*m2],\n",
        "              [l3**2,   m3**2,   n3**2,   2*m3*n3,        2*n3*l3,        2*l3*m3],\n",
        "              [l2*l3,   m2*m3,   n2*n3,   m2*n3 + m3*n2,  n2*l3 + n3*l2,  m2*l3 + m3*l2],\n",
        "              [l3*l1,   m3*m1,   n3*n1,   m3*n1 + m1*n3,  n3*l1 + n1*l3,  m3*l1 + m1*l3],\n",
        "              [l1*l2,   m1*m2,   n1*n2,   m1*n2 + m2*n1,  n1*l2 + n2*l1,  m1*l2 + m2*l1]])\n",
        "\n",
        "# transformation of stiffness\n",
        "Y_inv = np.linalg.inv(Y)\n",
        "\n",
        "S_dot_dip = np.dot(Y, S_trans_strike)\n",
        "S_trans_dip = np.dot(S_dot_dip, Y_inv)\n",
        "print('Transformed stiffness tensor with angle', theta, ':')\n",
        "print(S_trans_dip)"
      ],
      "execution_count": null,
      "outputs": [
        {
          "output_type": "stream",
          "text": [
            "Transformed stiffness tensor with angle 45 :\n",
            "[[ 3.88250000e+01  2.14875000e+01  2.14875000e+01 -9.57500000e+00\n",
            "   3.05382983e-15 -3.05382983e-15]\n",
            " [ 2.14875000e+01  3.07037500e+01  2.24237500e+01 -2.39750000e+00\n",
            "  -1.68472006e-15  1.36910978e-15]\n",
            " [ 2.14875000e+01  2.24237500e+01  3.07037500e+01 -2.39750000e+00\n",
            "  -1.36910978e-15  1.68472006e-15]\n",
            " [-4.78750000e+00 -1.19875000e+00 -1.19875000e+00  1.97275000e+01\n",
            "   1.52691492e-15 -1.52691492e-15]\n",
            " [ 1.25607397e-15 -6.99167993e-16 -5.56905974e-16  1.25607397e-15\n",
            "   1.66900000e+01 -8.41000000e+00]\n",
            " [-1.25607397e-15  5.56905974e-16  6.99167993e-16 -1.25607397e-15\n",
            "  -8.41000000e+00  1.66900000e+01]]\n"
          ],
          "name": "stdout"
        }
      ]
    },
    {
      "cell_type": "markdown",
      "metadata": {
        "id": "X8meOSVezxM0",
        "colab_type": "text"
      },
      "source": [
        "## Hudson (1981) and Cheng (1993) Crack Model"
      ]
    },
    {
      "cell_type": "code",
      "metadata": {
        "id": "vipowBf3Wnah",
        "colab_type": "code",
        "colab": {
          "base_uri": "https://localhost:8080/",
          "height": 33
        },
        "outputId": "7b8cd739-0f2a-4285-dfa7-8c8362f5aba3"
      },
      "source": [
        "Vp = 2000 # m/s\n",
        "Vs = 1000\n",
        "rho = 2000 # kg/m3\n",
        "poro = 0.15\n",
        "alpha = 0.01\n",
        "Kf = 2.24 # GPa\n",
        "Gf = 0\n",
        "\n",
        "C33_eff = (rho * (Vp)**2) * (1E-09) # GPa\n",
        "C44_eff = (rho * (Vs)**2) * (1E-09) # GPa\n",
        "print('Effective C33:', C33_eff, 'GPa, and C44:', C44_eff, 'GPa')"
      ],
      "execution_count": null,
      "outputs": [
        {
          "output_type": "stream",
          "text": [
            "Effective C33: 8.0 GPa, and C44: 2.0 GPa\n"
          ],
          "name": "stdout"
        }
      ]
    },
    {
      "cell_type": "code",
      "metadata": {
        "id": "gnGaYwLnXkXz",
        "colab_type": "code",
        "colab": {
          "base_uri": "https://localhost:8080/",
          "height": 84
        },
        "outputId": "f7ed3d0b-77bb-4fff-fbb3-a582f6120205"
      },
      "source": [
        "from scipy.optimize import fsolve\n",
        "\n",
        "def f(y):\n",
        "  K0, G0 = y\n",
        "\n",
        "  # Hashin-Shtrikman\n",
        "  # K_HS = K0 + (poro / (((Kf - K0)**(-1)) + ((1 - poro) * ((K0 + ((4 / 3) * G0))**(-1)))))\n",
        "  # G_HS = G0 + (poro / (((Gf - G0)**(-1)) + ((2 * (1 - poro)) * ((K0 + 2 * G0) / (5 * G0 * (K0 + ((4 / 3) * G0)))))))\n",
        "\n",
        "  K_HS = K0 + (poro / ((1 / (Kf - K0)) + ((1 - poro) * ((K0 + ((4 / 3) * G0))**(-1)))))\n",
        "  G_HS = G0 + (poro / ((1 / (Gf - G0)) + ((2 * (1 - poro)) * ((K0 + 2 * G0) / (5 * G0 * (K0 + ((4 / 3) * G0)))))))\n",
        "\n",
        "  lame_lambda = K_HS - ((2 / 3) * G_HS)\n",
        "  lame_mu = G_HS\n",
        "\n",
        "  crack_dens = (3 * poro) / (4 * np.pi * alpha)\n",
        "  K = (Kf * (lame_lambda + 2 * lame_mu)) / (np.pi * alpha * (lame_lambda + lame_mu)) \n",
        "\n",
        "  # stiffness 33\n",
        "  U3 = ((4 * (lame_lambda + 2 * lame_mu)) / (3 * (lame_lambda + lame_mu))) * (1 / (1 + K))\n",
        "  C33_0 = lame_lambda + 2 * lame_mu\n",
        "  C33_1 = -(((lame_lambda + 2 * lame_mu)**2) / lame_mu) * crack_dens * U3\n",
        "\n",
        "  # stiffness 44\n",
        "  U1 = ((16 * (lame_lambda + 2 * lame_mu)) / (3 * (3 * lame_lambda + 4 * lame_mu)))\n",
        "  C44_0 = lame_mu\n",
        "  C44_1 = -lame_mu * crack_dens * U1\n",
        "\n",
        "  # minimized function\n",
        "  f1 = C33_0 + C33_1 - C33_eff\n",
        "  f2 = C44_0 + C44_1 - C44_eff\n",
        "\n",
        "  return[f1, f2]\n",
        "\n",
        "solve = fsolve(f, [1, 1]) # initial guess\n",
        "solve"
      ],
      "execution_count": null,
      "outputs": [
        {
          "output_type": "stream",
          "text": [
            "/usr/local/lib/python3.6/dist-packages/scipy/optimize/minpack.py:162: RuntimeWarning: The iteration is not making good progress, as measured by the \n",
            "  improvement from the last five Jacobian evaluations.\n",
            "  warnings.warn(msg, RuntimeWarning)\n"
          ],
          "name": "stderr"
        },
        {
          "output_type": "execute_result",
          "data": {
            "text/plain": [
              "array([2.79067876, 0.52849871])"
            ]
          },
          "metadata": {
            "tags": []
          },
          "execution_count": 47
        }
      ]
    },
    {
      "cell_type": "code",
      "metadata": {
        "id": "1s339tRdjBL1",
        "colab_type": "code",
        "colab": {
          "base_uri": "https://localhost:8080/",
          "height": 33
        },
        "outputId": "2661de26-89a3-495b-b5c9-5e895b5d1200"
      },
      "source": [
        "K0 = 5\n",
        "G0 = 2\n",
        "alpha = 0.05\n",
        "\n",
        "A = 1 / (Kf - K0)\n",
        "B = 1 / (Gf - G0)\n",
        "C = 1 - poro\n",
        "D = 1 / (K0 + ((4/3) * G0))\n",
        "E = (K0 + 2 * G0) / (5 * G0 * (K0 + ((4/3) * G0)))\n",
        "\n",
        "K_HS = K0 + (poro / (A + C * D))\n",
        "G_HS = G0 + (poro / (B + (2 * C) * E))\n",
        "\n",
        "lame_lambda = K_HS - ((2 / 3) * G_HS)\n",
        "lame_mu = G_HS\n",
        "\n",
        "crack_dens = (3 * poro) / (4 * np.pi * alpha)\n",
        "K = (Kf * (lame_lambda + 2 * lame_mu)) / (np.pi * alpha * (lame_lambda + lame_mu)) \n",
        "\n",
        "# stiffness 33\n",
        "U3 = ((4 * (lame_lambda + 2 * lame_mu)) / (3 * (lame_lambda + lame_mu))) * (1 / (1 + K))\n",
        "C33_0 = lame_lambda + 2 * lame_mu\n",
        "C33_1 = -(((lame_lambda + 2 * lame_mu)**2) / lame_mu) * crack_dens * U3\n",
        "\n",
        "# stiffness 44\n",
        "U1 = (16 * (lame_lambda + (2 * lame_mu))) / (3 * ((3 * lame_lambda) + (4 * lame_mu)))\n",
        "C44_0 = lame_mu\n",
        "C44_1 = -(lame_mu) * crack_dens * U1\n",
        "\n",
        "C33_eff = C33_0 + C33_1\n",
        "C44_eff = C44_0 + C44_1\n",
        "C33_eff, C44_eff"
      ],
      "execution_count": null,
      "outputs": [
        {
          "output_type": "execute_result",
          "data": {
            "text/plain": [
              "(4.667468049182462, -0.7638178328023273)"
            ]
          },
          "metadata": {
            "tags": []
          },
          "execution_count": 3
        }
      ]
    },
    {
      "cell_type": "code",
      "metadata": {
        "id": "5rTyka99j6UA",
        "colab_type": "code",
        "colab": {
          "base_uri": "https://localhost:8080/",
          "height": 33
        },
        "outputId": "03fe931c-ee7a-47fd-beac-2abd4deb9619"
      },
      "source": [
        "lame_lambda, lame_mu, U1"
      ],
      "execution_count": null,
      "outputs": [
        {
          "output_type": "execute_result",
          "data": {
            "text/plain": [
              "(3.4029758205888525, 1.5007235890014472, 2.10691451232897)"
            ]
          },
          "metadata": {
            "tags": []
          },
          "execution_count": 4
        }
      ]
    },
    {
      "cell_type": "code",
      "metadata": {
        "id": "SrFh2G9fQjex",
        "colab_type": "code",
        "colab": {
          "base_uri": "https://localhost:8080/",
          "height": 33
        },
        "outputId": "246f02b6-317f-4294-9902-6515ba3f2389"
      },
      "source": [
        "# second order correction\n",
        "q = 15 * (lame_lambda**2 / lame_mu**2) + 15 * (lame_lambda / lame_mu) + 28\n",
        "\n",
        "C33_2 = (q * (lame_lambda + 2 * lame_mu) * ((crack_dens * U3)**2)) / 15\n",
        "C44_2 = (2 * lame_mu * (3 * lame_lambda + 8 * lame_mu) * ((crack_dens * U1)**2)) / 15\n",
        "\n",
        "# effective moduli with Cheng's (1993) Pade approximation\n",
        "def Pade(Cij_0, Cij_1, Cij_2):\n",
        "  b = Cij_2 / (Cij_1 * crack_dens)\n",
        "  a = (Cij_1 / (Cij_0 * crack_dens)) - 1\n",
        "  Cij_eff = Cij_0 * ((1 - a * crack_dens) / (1 + b * crack_dens))\n",
        "  return(Cij_eff)\n",
        "\n",
        "C33_eff = Pade(C33_0, C33_1, C33_2)\n",
        "C44_eff = Pade(C44_0, C44_1, C44_2)\n",
        "C33_eff, C44_eff "
      ],
      "execution_count": null,
      "outputs": [
        {
          "output_type": "execute_result",
          "data": {
            "text/plain": [
              "(14.768262774063851, -1.3950359797123446)"
            ]
          },
          "metadata": {
            "tags": []
          },
          "execution_count": 7
        }
      ]
    },
    {
      "cell_type": "code",
      "metadata": {
        "id": "ZmNjcFzZmRoj",
        "colab_type": "code",
        "colab": {
          "base_uri": "https://localhost:8080/",
          "height": 33
        },
        "outputId": "3b01b6e7-ec7a-4079-a063-19f10231c8f7"
      },
      "source": [
        "K_HS, G_HS"
      ],
      "execution_count": null,
      "outputs": [
        {
          "output_type": "execute_result",
          "data": {
            "text/plain": [
              "(3.685607349438585, 2.934010152284264)"
            ]
          },
          "metadata": {
            "tags": []
          },
          "execution_count": 64
        }
      ]
    },
    {
      "cell_type": "code",
      "metadata": {
        "id": "1nwvJpU1FesW",
        "colab_type": "code",
        "colab": {
          "base_uri": "https://localhost:8080/",
          "height": 33
        },
        "outputId": "f725c524-501f-4b90-b353-c4edc3c6ed66"
      },
      "source": [
        "(3 * 0.15) / (4 * 3.14 * 0.01)"
      ],
      "execution_count": null,
      "outputs": [
        {
          "output_type": "execute_result",
          "data": {
            "text/plain": [
              "3.5828025477707"
            ]
          },
          "metadata": {
            "tags": []
          },
          "execution_count": 75
        }
      ]
    },
    {
      "cell_type": "code",
      "metadata": {
        "id": "UgeAe2O3F1DN",
        "colab_type": "code",
        "colab": {
          "base_uri": "https://localhost:8080/",
          "height": 33
        },
        "outputId": "23adbea2-e421-42d7-f452-a62b1d744ab7"
      },
      "source": [
        "U1"
      ],
      "execution_count": null,
      "outputs": [
        {
          "output_type": "execute_result",
          "data": {
            "text/plain": [
              "2.0873479686229217"
            ]
          },
          "metadata": {
            "tags": []
          },
          "execution_count": 77
        }
      ]
    },
    {
      "cell_type": "code",
      "metadata": {
        "id": "Tgb3YL6wfLgc",
        "colab_type": "code",
        "colab": {
          "base_uri": "https://localhost:8080/",
          "height": 33
        },
        "outputId": "7b1bb7ef-c04e-43a4-8ee4-c8edeff43741"
      },
      "source": [
        "a = (-2)**(-1)\n",
        "a"
      ],
      "execution_count": null,
      "outputs": [
        {
          "output_type": "execute_result",
          "data": {
            "text/plain": [
              "-0.5"
            ]
          },
          "metadata": {
            "tags": []
          },
          "execution_count": 40
        }
      ]
    },
    {
      "cell_type": "markdown",
      "metadata": {
        "id": "ErmE3773WkkG",
        "colab_type": "text"
      },
      "source": [
        "## ***"
      ]
    },
    {
      "cell_type": "markdown",
      "metadata": {
        "id": "N40Bunmd0uut",
        "colab_type": "text"
      },
      "source": [
        "Background stiffness moduli ($C_{ij}^0$):\n",
        "\n",
        "$$C_{11}^0=C_{33}^0=\\lambda+2\\mu=\\rho V_p^2$$\n",
        "\n",
        "$$C_{44}^0=C_{66}^0=\\mu=\\rho V_s^2$$\n",
        "\n",
        "$$C_{13}^0 = C_{11}^0 - 2 C_{44}^0=\\lambda$$ \n",
        "\n",
        "\n"
      ]
    },
    {
      "cell_type": "code",
      "metadata": {
        "id": "CdBQlLALz8BJ",
        "colab_type": "code",
        "colab": {
          "base_uri": "https://localhost:8080/",
          "height": 33
        },
        "outputId": "24f9051f-8f6d-487b-82da-fce986d31c8c"
      },
      "source": [
        "Vp = 2000 # m/s\n",
        "Vs = 1000\n",
        "rho = 2000 # kg/m3\n",
        "\n",
        "# background moduli\n",
        "C11_b = (rho * (Vp)**2) * (1E-09) # GPa\n",
        "C33_b = C11_b\n",
        "C44_b = (rho * (Vs)**2) * (1E-09) # GPa\n",
        "C66_b = C44_b\n",
        "C13_b = C11_b - 2 * C44_b\n",
        "\n",
        "print('Background moduli C11:', C11_b, 'GPa, C13:', C13_b, 'GPa, C33:', C33_b, 'GPa, C44:', C44_b, 'GPa, and C66:', C66_b, 'GPa')"
      ],
      "execution_count": null,
      "outputs": [
        {
          "output_type": "stream",
          "text": [
            "Background moduli C11: 8.0 GPa, C13: 4.0 GPa, C33: 8.0 GPa, C44: 2.0 GPa, and C66: 2.0 GPa\n"
          ],
          "name": "stdout"
        }
      ]
    },
    {
      "cell_type": "markdown",
      "metadata": {
        "id": "aaC6yO96-8rR",
        "colab_type": "text"
      },
      "source": [
        "First order correction to stiffness moduli ($C_{ij}^1$):\n",
        "\n",
        "$$C_{11}^1=-\\frac{\\lambda^2}{\\mu} \\epsilon U_3$$\n",
        "\n",
        "$$C_{13}^1=-\\frac{\\lambda(\\lambda+2\\mu)^2}{\\mu} \\epsilon U_3$$\n",
        "\n",
        "$$C_{33}^1=-\\frac{(\\lambda+2\\mu)^2}{\\mu} \\epsilon U_3$$\n",
        "\n",
        "$$C_{44}^1=-\\mu \\epsilon U_1$$\n",
        "\n",
        "$$C_{66}^1=0$$\n",
        "\n",
        "Where $\\epsilon$ is the crack density: $\\epsilon=\\frac{3 \\phi}{4 \\pi \\alpha}$, $\\alpha$ is aspect ratio of crack ($\\alpha<0.12$)\n",
        "\n",
        "And $U$ has 2 kinds of conditions:\n",
        "\n",
        "* dry crack / dry inclusion\n",
        "\n",
        "$$U_1=\\frac{16(\\lambda+2\\mu)}{3(3\\lambda+4\\mu)}$$\n",
        "\n",
        "$$U_3=\\frac{4(\\lambda+2\\mu)}{3(3\\lambda+\\mu)}$$\n",
        "\n",
        "* \"weak\" inclusion\n",
        "\n"
      ]
    },
    {
      "cell_type": "code",
      "metadata": {
        "id": "XdzKlqaTEO0w",
        "colab_type": "code",
        "colab": {}
      },
      "source": [
        "# criteria for weak or not"
      ],
      "execution_count": null,
      "outputs": []
    },
    {
      "cell_type": "markdown",
      "metadata": {
        "id": "Qw6_Kmu0-EKQ",
        "colab_type": "text"
      },
      "source": [
        "Effective stiffness moduli:\n",
        "\n",
        "$$C_{ij}^*=\\begin{bmatrix} C_{11}^* & C_{12}^* & C_{13}^* & 0 & 0 & 0 \\\\ C_{21}^* & C_{22}^* & C_{23}^* & 0 & 0 & 0 \\\\ C_{31}^* & C_{32}^* & C_{33}^* & 0 & 0 & 0 \\\\ 0 & 0 & 0 & C_{44}^* & 0 & 0 \\\\ 0 & 0 & 0 & 0 & C_{55}^* & 0 \\\\ 0 & 0 & 0 & 0 & 0 & C_{66}^* \\end{bmatrix}$$\n",
        "\n",
        "Where $$C_{ij}^*=C_{ij}^0+C_{ij}^1$$\n",
        "\n",
        "C_{ij}=\\begin{bmatrix} C_{11} & C_{12} & C_{13} & C_{14} & C_{15} & C_{16} \\\\ C_{21} & C_{22} & C_{23} & C_{24} & C_{25} & C_{26} \\\\ C_{31} & C_{32} & C_{33} & C_{34} & C_{35} & C_{36} \\\\ C_{41} & C_{42} & C_{43} & C_{44} & C_{45} & C_{46} \\\\ C_{51} & C_{52} & C_{53} & C_{54} & C_{55} & C_{56} \\\\ C_{61} & C_{62} & C_{63} & C_{64} & C_{65} & C_{66} \\end{bmatrix}"
      ]
    }
  ]
}